{
 "cells": [
  {
   "cell_type": "code",
   "execution_count": 1,
   "metadata": {},
   "outputs": [],
   "source": [
    "# https://radimrehurek.com/gensim/models/deprecated/keyedvectors.html\n",
    "# https://machinelearningmastery.com/develop-word-embeddings-python-gensim/\n",
    "# https://nlp.stanford.edu/projects/glove/\n",
    "from gensim.scripts.glove2word2vec import glove2word2vec\n",
    "from gensim.models import KeyedVectors\n",
    "import os"
   ]
  },
  {
   "cell_type": "code",
   "execution_count": 2,
   "metadata": {},
   "outputs": [],
   "source": [
    "dim_n = 300\n",
    "glove_input_file = f'./data/glove.6B.{dim_n}d.txt'\n",
    "word2vec_output_file = f'./data/glove.6B.{dim_n}d.txt.word2vec'\n",
    "if not os.path.isfile(word2vec_output_file): \n",
    "    glove2word2vec(glove_input_file, word2vec_output_file)"
   ]
  },
  {
   "cell_type": "code",
   "execution_count": 3,
   "metadata": {},
   "outputs": [
    {
     "name": "stderr",
     "output_type": "stream",
     "text": [
      "/home/valeporti/.local/lib/python3.6/site-packages/smart_open/smart_open_lib.py:402: UserWarning: This function is deprecated, use smart_open.open instead. See the migration notes for details: https://github.com/RaRe-Technologies/smart_open/blob/master/README.rst#migrating-to-the-new-open-function\n",
      "  'See the migration notes for details: %s' % _MIGRATION_NOTES_URL\n"
     ]
    }
   ],
   "source": [
    "model = KeyedVectors.load_word2vec_format(word2vec_output_file, binary=False)"
   ]
  },
  {
   "cell_type": "code",
   "execution_count": 4,
   "metadata": {},
   "outputs": [
    {
     "data": {
      "text/plain": [
       "(300,)"
      ]
     },
     "execution_count": 4,
     "metadata": {},
     "output_type": "execute_result"
    }
   ],
   "source": [
    "v = model['centrist']\n",
    "v.shape"
   ]
  },
  {
   "cell_type": "code",
   "execution_count": 19,
   "metadata": {},
   "outputs": [
    {
     "data": {
      "text/plain": [
       "[('biomedical', 0.4151154160499573),\n",
       " ('gerontology', 0.38601911067962646),\n",
       " ('sciences', 0.3781599998474121),\n",
       " ('microbiology', 0.3649481534957886),\n",
       " ('biostatistics', 0.3528899550437927),\n",
       " ('science', 0.3505825996398926),\n",
       " ('neurology', 0.3437531292438507),\n",
       " ('radiology', 0.3431781828403473),\n",
       " ('pharmacology', 0.3430456221103668),\n",
       " ('biology', 0.3413241505622864)]"
      ]
     },
     "execution_count": 19,
     "metadata": {},
     "output_type": "execute_result"
    }
   ],
   "source": [
    "\"\"\"Find the top-N most similar words. Positive words contribute positively towards the similarity, negative words negatively.\n",
    "\n",
    "This method computes cosine similarity between a simple mean of the projection weight vectors of the given words and \n",
    "the vectors for each word in the model. \n",
    "The method corresponds to the word-analogy and distance scripts in the original word2vec implementation.\"\"\"\n",
    "\n",
    "model.most_similar(positive=['informatics'], negative=['decentralized'], topn=10)"
   ]
  },
  {
   "cell_type": "code",
   "execution_count": 7,
   "metadata": {},
   "outputs": [
    {
     "data": {
      "text/plain": [
       "'slow'"
      ]
     },
     "execution_count": 7,
     "metadata": {},
     "output_type": "execute_result"
    }
   ],
   "source": [
    "\"\"\"\n",
    "Get the entity from entities_list most similar to entity1.\n",
    "\"\"\"\n",
    "\n",
    "model.most_similar_to_given('centralized', ['slow', 'decision', 'making'])"
   ]
  },
  {
   "cell_type": "code",
   "execution_count": 37,
   "metadata": {},
   "outputs": [
    {
     "name": "stdout",
     "output_type": "stream",
     "text": [
      "cent (0.47398929274116886), desc (0.5955710323450699)\n",
      "prag (0.5655847590140385), emot (0.3561073412126275)\n",
      "['collaborate', 'design', 'front', 'end', 'back', 'end', 'programming', 'teams', 'concept', 'build', 'test', 'launch', 'dynamic', 'websites', 'industry', 'best', 'practices']\n",
      "cent (0.45004881310673656), desc (0.611796903062255)\n",
      "prag (0.4949022530931788), emot (0.39344615353288764)\n",
      "['work', 'closely', 'other', 'web', 'developers', 'ensure', 'client', 'marketing', 'goals', 'objectives', 'understood', 'met', 'established', 'timelines', 'highest', 'level', 'quality']\n",
      "cent (0.5069139327421917), desc (0.583098296478995)\n",
      "prag (0.5190717879291836), emot (0.334331363199194)\n",
      "['expert', 'wordpress']\n",
      "cent (0.030650676948431866), desc (0.06383689309691577)\n",
      "prag (0.09509065855783401), emot (0.029601195638117736)\n",
      "['working', 'e-commerce', 'agile', 'environment']\n",
      "cent (0.3572978455394575), desc (0.36084835626671624)\n",
      "prag (0.4932104876341778), emot (0.24048926428182987)\n",
      "['coding', 'wordpress', 'environment', 'develop', 'update', 'code', 'themes', 'plugins']\n",
      "cent (0.25490794359570296), desc (0.34547800841160414)\n",
      "prag (0.4221677310828527), emot (0.23951727789468302)\n",
      "['modify', 'existing', 'code', 'needed']\n",
      "cent (0.34254493963651267), desc (0.47817043003293924)\n",
      "prag (0.39852347005297467), emot (0.16049188568678707)\n",
      "['coding', 'custom', 'wordpress', 'theme', 'template', 'files', 'using']\n",
      "cent (0.19960847351020466), desc (0.24701632884256794)\n",
      "prag (0.3387276338547612), emot (0.15594213973957274)\n"
     ]
    }
   ],
   "source": [
    "\"\"\"\n",
    "Compute cosine similarity between two sets of words.\n",
    "\"\"\"\n",
    "\n",
    "ph1 = ['collaborate', 'design', 'front', 'end', 'back', 'end', 'programming', 'teams', \n",
    "    'concept', 'build', 'test', 'launch', 'dynamic', 'websites', 'industry',\n",
    "    'best', 'practices']\n",
    "ph2 =['work', 'closely', 'other', 'web', 'developers', 'ensure',\n",
    "    'client',  'marketing', 'goals', 'objectives', 'understood', 'met', \n",
    "    'established', 'timelines', 'highest', 'level','quality']\n",
    "ph3 = ['expert', 'wordpress']\n",
    "ph4 = ['working', 'e-commerce', 'agile', 'environment']\n",
    "ph5 = ['coding', 'wordpress', 'environment', 'develop', 'update', 'code',\n",
    "       'themes', 'plugins']\n",
    "ph6 = ['modify', 'existing', 'code', 'needed']\n",
    "ph7 = ['coding', 'custom', 'wordpress', 'theme' , 'template', \n",
    "       'files', 'using']\n",
    "\n",
    "job_desc_list = [ph1, ph2, ph3, ph4, ph5, ph6, ph7]\n",
    "job_desc = ph1 + ph2 + ph3 + ph4 + ph5 + ph6 + ph7\n",
    "cent = model.n_similarity(['boss', 'promotion', 'hierarchy', 'slow', 'decision-making', 'bureaucracy'], job_desc)\n",
    "desc = model.n_similarity(['disperse', 'leader',  'project', 'organization','structure'], job_desc)\n",
    "print(f'cent ({cent}), desc ({desc})')\n",
    "prag = model.n_similarity(['pragmatic', 'practical', 'logical', 'efficient', 'realistic', 'feedback'], job_desc)\n",
    "emot = model.n_similarity(['affecting', 'exciting', 'passionate', 'sentimental', 'spontaneous', 'critics'], job_desc)\n",
    "print(f'prag ({prag}), emot ({emot})')\n",
    "\n",
    "for phrase in job_desc_list:\n",
    "    print(phrase)\n",
    "    cent = model.n_similarity(['boss', 'promotion', 'hierarchy', 'slow', 'decision-making', 'bureaucracy'], phrase)\n",
    "    desc = model.n_similarity(['disperse', 'leader',  'project', 'organization','structure'], phrase)\n",
    "    print(f'cent ({cent}), desc ({desc})')\n",
    "    prag = model.n_similarity(['pragmatic', 'practical', 'logical', 'efficient', 'realistic', 'feedback'], phrase)\n",
    "    emot = model.n_similarity(['affecting', 'exciting', 'passionate', 'sentimental', 'spontaneous', 'critics'], phrase)\n",
    "    print(f'prag ({prag}), emot ({emot})')\n"
   ]
  },
  {
   "cell_type": "markdown",
   "metadata": {},
   "source": [
    "> Issue with this approach, it seems that it's capturing also antonyms, fact that we want to avoid since we are trying to retrieve antonym concepts, maybe a solution can be proposed to overcome this behavior, besides, it seems that with the method \"most_similar\", this issue can be overcomed. Furthermore, \"most_similar\" with just a positive word is the same as this method"
   ]
  },
  {
   "cell_type": "code",
   "execution_count": 41,
   "metadata": {},
   "outputs": [
    {
     "data": {
      "text/plain": [
       "[('centralised', 0.8113839030265808),\n",
       " ('decentralized', 0.706671953201294),\n",
       " ('hierarchical', 0.5671628713607788),\n",
       " ('decentralised', 0.5647639036178589),\n",
       " ('bureaucracy', 0.5224347114562988),\n",
       " ('centralization', 0.5045151710510254),\n",
       " ('centrally', 0.5039045214653015),\n",
       " ('bureaucracies', 0.49719032645225525),\n",
       " ('centralizing', 0.496930330991745),\n",
       " ('computerized', 0.47032514214515686)]"
      ]
     },
     "execution_count": 41,
     "metadata": {},
     "output_type": "execute_result"
    }
   ],
   "source": [
    "\"\"\"\n",
    "Find the top-N most similar words.\n",
    "\"\"\"\n",
    "\n",
    "model.similar_by_word('centralized', topn=10)"
   ]
  },
  {
   "cell_type": "code",
   "execution_count": 39,
   "metadata": {},
   "outputs": [
    {
     "data": {
      "text/plain": [
       "0.7066719959008728"
      ]
     },
     "execution_count": 39,
     "metadata": {},
     "output_type": "execute_result"
    }
   ],
   "source": [
    "model.similarity('centralized', 'decentralized')"
   ]
  },
  {
   "cell_type": "code",
   "execution_count": 38,
   "metadata": {},
   "outputs": [
    {
     "data": {
      "text/plain": [
       "0.2933280040991272"
      ]
     },
     "execution_count": 38,
     "metadata": {},
     "output_type": "execute_result"
    }
   ],
   "source": [
    "model.distance('centralized', 'decentralized')"
   ]
  },
  {
   "cell_type": "code",
   "execution_count": 40,
   "metadata": {},
   "outputs": [
    {
     "data": {
      "text/plain": [
       "2"
      ]
     },
     "execution_count": 40,
     "metadata": {},
     "output_type": "execute_result"
    }
   ],
   "source": [
    "model.rank('centralized', 'decentralized')"
   ]
  },
  {
   "cell_type": "code",
   "execution_count": 12,
   "metadata": {},
   "outputs": [
    {
     "data": {
      "text/plain": [
       "-0.10952533800340147"
      ]
     },
     "execution_count": 12,
     "metadata": {},
     "output_type": "execute_result"
    }
   ],
   "source": [
    "model.n_similarity(['rule-based'], job_desc)"
   ]
  },
  {
   "cell_type": "code",
   "execution_count": 13,
   "metadata": {},
   "outputs": [
    {
     "data": {
      "text/plain": [
       "0.4081094339442425"
      ]
     },
     "execution_count": 13,
     "metadata": {},
     "output_type": "execute_result"
    }
   ],
   "source": [
    "model.n_similarity(['emotional', 'relationship'], job_desc)"
   ]
  },
  {
   "cell_type": "code",
   "execution_count": 14,
   "metadata": {},
   "outputs": [
    {
     "name": "stdout",
     "output_type": "stream",
     "text": [
      "0.6436651890065143\n",
      "[('centralized', 0.29213541746139526), ('control', 0.289389044046402), ('kings', 0.274245023727417), ('required', 0.2557501494884491), ('royal', 0.2550400495529175), ('factory', 0.2513066232204437), ('traffic', 0.2509596347808838), ('proving', 0.24832189083099365), ('training', 0.24686117470264435), ('sign', 0.246623694896698)]\n"
     ]
    },
    {
     "data": {
      "text/plain": [
       "[('centralized', 0.8113839030265808),\n",
       " ('decentralised', 0.6436651945114136),\n",
       " ('decentralized', 0.6053079962730408),\n",
       " ('centrally', 0.47633200883865356),\n",
       " ('computerised', 0.45558688044548035),\n",
       " ('hierarchical', 0.45417290925979614),\n",
       " ('centralize', 0.44843581318855286),\n",
       " ('decentralize', 0.43602314591407776),\n",
       " ('two-tier', 0.4281821548938751),\n",
       " ('centralizing', 0.42436620593070984)]"
      ]
     },
     "execution_count": 14,
     "metadata": {},
     "output_type": "execute_result"
    }
   ],
   "source": [
    "print(model.similarity('centralised', 'decentralised'))\n",
    "print(model.most_similar(positive=['centralised'], negative=['decentralised']))\n",
    "model.similar_by_word('centralised', topn=10)"
   ]
  },
  {
   "cell_type": "code",
   "execution_count": 15,
   "metadata": {},
   "outputs": [
    {
     "data": {
      "text/plain": [
       "['centralized']"
      ]
     },
     "execution_count": 15,
     "metadata": {},
     "output_type": "execute_result"
    }
   ],
   "source": [
    "model.words_closer_than('centralised', 'decentralised')"
   ]
  },
  {
   "cell_type": "code",
   "execution_count": 16,
   "metadata": {},
   "outputs": [
    {
     "data": {
      "text/plain": [
       "[('relationships', 0.7057441473007202),\n",
       " ('feelings', 0.5835412740707397),\n",
       " ('psychological', 0.5553158521652222),\n",
       " ('intimacy', 0.5453625917434692),\n",
       " ('friendship', 0.5399602651596069),\n",
       " ('intimate', 0.537808895111084),\n",
       " ('emotionally', 0.5338315963745117),\n",
       " ('kind', 0.5336318016052246),\n",
       " ('emotions', 0.5320711135864258),\n",
       " ('relations', 0.5308881998062134)]"
      ]
     },
     "execution_count": 16,
     "metadata": {},
     "output_type": "execute_result"
    }
   ],
   "source": [
    "model.most_similar(positive=['emotional', 'relationship'])"
   ]
  },
  {
   "cell_type": "code",
   "execution_count": 17,
   "metadata": {},
   "outputs": [
    {
     "data": {
      "text/plain": [
       "0.024979651269173793"
      ]
     },
     "execution_count": 17,
     "metadata": {},
     "output_type": "execute_result"
    }
   ],
   "source": [
    "model.similarity('centric', 'liberal')"
   ]
  },
  {
   "cell_type": "code",
   "execution_count": 29,
   "metadata": {},
   "outputs": [
    {
     "name": "stdout",
     "output_type": "stream",
     "text": [
      "0.5386022876272359\n",
      "0.3430903698391148\n"
     ]
    }
   ],
   "source": [
    "ter_cen = [ 'boss', 'slow', 'decision-making', 'bureaucracy', 'promotion', 'hierarchy',\n",
    "            'functional', 'centralized', 'vertical',\n",
    "           ]\n",
    "    \n",
    "print(model.n_similarity(ter_cen, job_desc))\n",
    "print(model.n_similarity(['functional'], job_desc))\n"
   ]
  },
  {
   "cell_type": "code",
   "execution_count": null,
   "metadata": {},
   "outputs": [],
   "source": []
  }
 ],
 "metadata": {
  "kernelspec": {
   "display_name": "Python 3.6.9 64-bit",
   "language": "python",
   "name": "python36964bita6748a10fd904a55b24d331e21814786"
  },
  "language_info": {
   "codemirror_mode": {
    "name": "ipython",
    "version": 3
   },
   "file_extension": ".py",
   "mimetype": "text/x-python",
   "name": "python",
   "nbconvert_exporter": "python",
   "pygments_lexer": "ipython3",
   "version": "3.6.9"
  }
 },
 "nbformat": 4,
 "nbformat_minor": 4
}
