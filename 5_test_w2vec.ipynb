{
 "cells": [
  {
   "cell_type": "code",
   "execution_count": 1,
   "metadata": {},
   "outputs": [],
   "source": [
    "# https://radimrehurek.com/gensim/models/deprecated/keyedvectors.html\n",
    "# https://machinelearningmastery.com/develop-word-embeddings-python-gensim/\n",
    "from gensim.models import KeyedVectors"
   ]
  },
  {
   "cell_type": "code",
   "execution_count": 2,
   "metadata": {},
   "outputs": [
    {
     "name": "stderr",
     "output_type": "stream",
     "text": [
      "/home/valeporti/.local/lib/python3.6/site-packages/smart_open/smart_open_lib.py:402: UserWarning: This function is deprecated, use smart_open.open instead. See the migration notes for details: https://github.com/RaRe-Technologies/smart_open/blob/master/README.rst#migrating-to-the-new-open-function\n",
      "  'See the migration notes for details: %s' % _MIGRATION_NOTES_URL\n"
     ]
    }
   ],
   "source": [
    "filename = './data/GoogleNews-vectors-negative300.bin'\n",
    "model = KeyedVectors.load_word2vec_format(filename, binary=True)"
   ]
  },
  {
   "cell_type": "code",
   "execution_count": 3,
   "metadata": {},
   "outputs": [
    {
     "data": {
      "text/plain": [
       "(300,)"
      ]
     },
     "execution_count": 3,
     "metadata": {},
     "output_type": "execute_result"
    }
   ],
   "source": [
    "v = model['centrist']\n",
    "v.shape"
   ]
  },
  {
   "cell_type": "code",
   "execution_count": 4,
   "metadata": {},
   "outputs": [
    {
     "data": {
      "text/plain": [
       "[('McAfee_ePO', 0.33990055322647095),\n",
       " ('Centralized', 0.3273981809616089),\n",
       " ('OneSign_SSO', 0.3217175006866455),\n",
       " ('Tripwire_Log', 0.3142997622489929),\n",
       " ('Sun_xVM_Ops', 0.31407076120376587),\n",
       " ('customizable_dashboards', 0.306085467338562),\n",
       " ('centralized_repository', 0.3059951663017273),\n",
       " ('Stratusphere', 0.3033236265182495),\n",
       " ('NitroView_ESM', 0.3030901551246643),\n",
       " ('Absolute_Monitoring', 0.3026299476623535)]"
      ]
     },
     "execution_count": 4,
     "metadata": {},
     "output_type": "execute_result"
    }
   ],
   "source": [
    "\"\"\"Find the top-N most similar words. Positive words contribute positively towards the similarity, negative words negatively.\n",
    "\n",
    "This method computes cosine similarity between a simple mean of the projection weight vectors of the given words and \n",
    "the vectors for each word in the model. \n",
    "The method corresponds to the word-analogy and distance scripts in the original word2vec implementation.\"\"\"\n",
    "\n",
    "model.most_similar(positive=['centralized'], negative=['decentralized'], topn=10)"
   ]
  },
  {
   "cell_type": "code",
   "execution_count": 5,
   "metadata": {},
   "outputs": [
    {
     "data": {
      "text/plain": [
       "'boss'"
      ]
     },
     "execution_count": 5,
     "metadata": {},
     "output_type": "execute_result"
    }
   ],
   "source": [
    "\"\"\"\n",
    "Get the entity from entities_list most similar to entity1.\n",
    "\"\"\"\n",
    "\n",
    "model.most_similar_to_given('centrist', ['boss', 'promotion', 'hierarchy', 'slow', 'decision'])"
   ]
  },
  {
   "cell_type": "code",
   "execution_count": 6,
   "metadata": {},
   "outputs": [
    {
     "name": "stdout",
     "output_type": "stream",
     "text": [
      "cent (0.3759588393837981), desc (0.45332777873369534)\n",
      "prag (0.5008825755824164), emot (0.3243110580524497)\n"
     ]
    }
   ],
   "source": [
    "\"\"\"\n",
    "Compute cosine similarity between two sets of words.\n",
    "\"\"\"\n",
    "\n",
    "job_desc = ['Collaborate', 'design', 'Front', 'end', 'Back', 'end', 'programming', 'teams', \n",
    "            'concept', 'build', 'test', 'launch', 'dynamic', 'websites', 'industry',\n",
    "            'best', 'practices', 'Work', 'closely', 'other', 'web', 'developers', 'ensure',\n",
    "            'client',  'marketing', 'goals', 'objectives', 'understood', 'met', \n",
    "            'established', 'timelines', 'highest', 'level','quality']\n",
    "cent = model.n_similarity(['boss', 'promotion', 'hierarchy', 'slow', 'decision'], job_desc)\n",
    "desc = model.n_similarity(['disperse', 'leader',  'project', 'organization','structure'], job_desc)\n",
    "print(f'cent ({cent}), desc ({desc})')\n",
    "prag = model.n_similarity(['pragmatic', 'practical', 'logical', 'efficient', 'realistic', 'feedback'], job_desc)\n",
    "emot = model.n_similarity(['affecting', 'exciting', 'passionate', 'sentimental', 'spontaneous', 'critics'], job_desc)\n",
    "print(f'prag ({prag}), emot ({emot})')"
   ]
  },
  {
   "cell_type": "markdown",
   "metadata": {},
   "source": [
    "> Issue with this approach, it seems that it's capturing also antonyms, fact that we want to avoid since we are trying to retrieve antonym concepts, maybe a solution can be proposed to overcome this behavior, besides, it seems that with the method \"most_similar\", this issue can be overcomed. Furthermore, \"most_similar\" with just a positive word is the same as this method"
   ]
  },
  {
   "cell_type": "code",
   "execution_count": 10,
   "metadata": {},
   "outputs": [
    {
     "data": {
      "text/plain": [
       "[('oriented', 0.6055328845977783),\n",
       " ('centricity', 0.6044423580169678),\n",
       " ('orientated', 0.5023170113563538),\n",
       " ('componentised', 0.4599813222885132),\n",
       " ('CoCreate_3rd', 0.45777708292007446),\n",
       " ('socially_networked', 0.4537206292152405),\n",
       " ('holistic', 0.4428867995738983),\n",
       " ('silo_ed', 0.44246262311935425),\n",
       " ('gamified', 0.4413653016090393),\n",
       " ('integrated', 0.43601399660110474)]"
      ]
     },
     "execution_count": 10,
     "metadata": {},
     "output_type": "execute_result"
    }
   ],
   "source": [
    "\"\"\"\n",
    "Find the top-N most similar words.\n",
    "\"\"\"\n",
    "\n",
    "model.similar_by_word('centric', topn=10)"
   ]
  },
  {
   "cell_type": "code",
   "execution_count": 12,
   "metadata": {},
   "outputs": [
    {
     "data": {
      "text/plain": [
       "0.2286931824495394"
      ]
     },
     "execution_count": 12,
     "metadata": {},
     "output_type": "execute_result"
    }
   ],
   "source": [
    "model.similarity('centric', 'liberal')"
   ]
  },
  {
   "cell_type": "code",
   "execution_count": 19,
   "metadata": {},
   "outputs": [
    {
     "data": {
      "text/plain": [
       "0.8977424775823725"
      ]
     },
     "execution_count": 19,
     "metadata": {},
     "output_type": "execute_result"
    }
   ],
   "source": [
    "model.distance('centralized', 'decision')"
   ]
  }
 ],
 "metadata": {
  "kernelspec": {
   "display_name": "Python 3.6.9 64-bit",
   "language": "python",
   "name": "python36964bita6748a10fd904a55b24d331e21814786"
  },
  "language_info": {
   "codemirror_mode": {
    "name": "ipython",
    "version": 3
   },
   "file_extension": ".py",
   "mimetype": "text/x-python",
   "name": "python",
   "nbconvert_exporter": "python",
   "pygments_lexer": "ipython3",
   "version": "3.6.9"
  }
 },
 "nbformat": 4,
 "nbformat_minor": 4
}
