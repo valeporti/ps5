{
 "cells": [
  {
   "cell_type": "code",
   "execution_count": 1,
   "metadata": {},
   "outputs": [],
   "source": [
    "import json\n",
    "import pandas as pd\n",
    "import numpy as np\n",
    "import matplotlib.pyplot as plt\n",
    "%matplotlib inline\n",
    "import seaborn as sns\n",
    "plt.style.use('ggplot')\n",
    "\n",
    "\n",
    "from wordcloud import WordCloud, ImageColorGenerator\n",
    "from PIL import Image\n",
    "\n",
    "#  classic clustering \n",
    "from sklearn import preprocessing\n",
    "from sklearn.cluster import KMeans\n",
    "from sklearn.metrics import silhouette_score\n"
   ]
  },
  {
   "cell_type": "code",
   "execution_count": 2,
   "metadata": {},
   "outputs": [
    {
     "name": "stderr",
     "output_type": "stream",
     "text": [
      "[nltk_data] Downloading package wordnet to /home/rudresh/nltk_data...\n",
      "[nltk_data]   Package wordnet is already up-to-date!\n"
     ]
    },
    {
     "data": {
      "text/plain": [
       "True"
      ]
     },
     "execution_count": 2,
     "metadata": {},
     "output_type": "execute_result"
    }
   ],
   "source": [
    "from string import punctuation\n",
    "from spacy.lang.en.stop_words import STOP_WORDS\n",
    "\n",
    "import gensim\n",
    "from gensim.utils import simple_preprocess\n",
    "from gensim.parsing.preprocessing import STOPWORDS\n",
    "from nltk.stem import WordNetLemmatizer, SnowballStemmer\n",
    "from nltk.stem.porter import *\n",
    "from nltk.corpus import stopwords \n",
    "from nltk.tokenize import word_tokenize \n",
    "\n",
    "import numpy as np\n",
    "np.random.seed(2018)\n",
    "import nltk\n",
    "nltk.download('wordnet')\n"
   ]
  },
  {
   "cell_type": "code",
   "execution_count": 3,
   "metadata": {},
   "outputs": [],
   "source": [
    "# load the json file\n",
    "\n",
    "with open('job-vs-skill-co-occurences-dict.json', 'r') as f:\n",
    "    distros_dict = json.load(f)"
   ]
  },
  {
   "cell_type": "code",
   "execution_count": 4,
   "metadata": {},
   "outputs": [
    {
     "name": "stdout",
     "output_type": "stream",
     "text": [
      "kitchen helper {'kitchen': 1, 'chef': 1}\n"
     ]
    }
   ],
   "source": [
    "# read the first file using json\n",
    "for distro in distros_dict:\n",
    "    print(distro, distros_dict[distro])\n",
    "    break"
   ]
  },
  {
   "cell_type": "code",
   "execution_count": 5,
   "metadata": {},
   "outputs": [
    {
     "name": "stdout",
     "output_type": "stream",
     "text": [
      "9979\n"
     ]
    }
   ],
   "source": [
    "tempList = []\n",
    "for distro in distros_dict:\n",
    "    tempList.append(distro)\n",
    "print(len(tempList))"
   ]
  },
  {
   "cell_type": "code",
   "execution_count": 6,
   "metadata": {},
   "outputs": [],
   "source": [
    "# all the function to be used for the analysis"
   ]
  },
  {
   "cell_type": "code",
   "execution_count": 7,
   "metadata": {},
   "outputs": [],
   "source": [
    "#to retreive the skill name from the distros_dict \n",
    "\n",
    "def getSkillFromDict(dic):\n",
    "    mainDict = {}\n",
    "    for jobtitle in dic:\n",
    "        tempdict = {}\n",
    "        tempdict = dic[jobtitle]\n",
    "        mainDict =updateDicValue(tempdict,mainDict)\n",
    "    return mainDict\n",
    "\n",
    "# to append the dic if they have value is more than one\n",
    "def updateDicValue(dic1,dic2):\n",
    "    for (key1,value1) in dic1.items():\n",
    "        if key1 in dic2:\n",
    "            value2 = dic2[key1]\n",
    "            finalvalue = value2+value1\n",
    "            dic2.update({key1 : finalvalue} )\n",
    "        else:\n",
    "            dic2.update({key1 : value1})\n",
    "    return dic2"
   ]
  },
  {
   "cell_type": "code",
   "execution_count": 8,
   "metadata": {},
   "outputs": [],
   "source": [
    "# make the word cloud inorder to visualize most frequent skills\n",
    "\n",
    "def MadeWordCloud(list_text):\n",
    "    sns.set(rc={'figure.figsize':(11.7,8.27)})\n",
    "    long_text = ' '.join(list_text)\n",
    "    wordcloud = WordCloud(background_color=\"white\").generate(long_text)\n",
    "    plt.figure()\n",
    "    plt.imshow(wordcloud, interpolation=\"bilinear\")\n",
    "    plt.axis(\"off\")\n",
    "    plt.margins(x=0, y=0)\n",
    "    plt.show()\n",
    "    return wordcloud"
   ]
  },
  {
   "cell_type": "code",
   "execution_count": 9,
   "metadata": {},
   "outputs": [],
   "source": [
    "# get the name of the job title for the corresponsing skills\n",
    "def getJobtitleForSkill(skillList,dic):\n",
    "    mainDict={}\n",
    "    for key1 in skillList:\n",
    "        for key2, value in dic.items():\n",
    "            if key1 in value.keys() and key1 in mainDict.keys() :\n",
    "                lst = mainDict[key1]\n",
    "                lst.append(key2)\n",
    "                mainDict.update({key1 : lst})\n",
    "            elif key1 in value.keys() and key1 not in mainDict.keys():\n",
    "                mainDict.update({key1 : [key2]})\n",
    "    return mainDict\n",
    "\n",
    "# clean the job title by removing the punctuation and stop words\n",
    "def cleanTitles(sentence):\n",
    "    newsent = ''.join(c for c in sentence if c not in punctuation)\n",
    "    return ' '.join([x for x in newsent.split() if x.lower() not in STOP_WORDS])\n",
    "\n",
    "loadCities = ['dubai','spanish','india', 'philippines']\n",
    "loadCountry = ['india','france','afghanistan','spian']\n",
    "\n",
    "# clean the job skill by removing the city name,country and pucntuation,\n",
    "def cleanskills(sentence):\n",
    "    newsent = ''.join(c for c in sentence if c.lower() not in loadCities)\n",
    "    newsent = ''.join(c for c in newsent if c.lower() not in loadCountry)\n",
    "    newsent = ''.join(c for c in newsent if c not in punctuation)\n",
    "    # grammer correction if any\n",
    "#     newsent = newsent.translate(string.maketrans(“”,””), string.punctuation)\n",
    "    return ' '.join([x for x in newsent.split() if x.lower() not in STOP_WORDS])"
   ]
  },
  {
   "cell_type": "code",
   "execution_count": 10,
   "metadata": {},
   "outputs": [],
   "source": [
    "#generic function to convert the dictionary in the list\n",
    "\n",
    "def getdata(joblistList,df_original):\n",
    "    tempList=[]\n",
    "    for i in joblistList:\n",
    "        value = df_original[i]\n",
    "        tempList.append(value + ' /n')\n",
    "    return tempList\n",
    "\n",
    "\n",
    "# get the name of skill from the list of skill id\n",
    "def getSkillname(skillList):\n",
    "    tempList=[]\n",
    "    for i in skillList:\n",
    "        value = [v for (k, v) in flatten_skill_list.iteritems() if k == i]\n",
    "        tempList.append((i,value))\n",
    "    return tempList\n",
    "\n",
    "\n",
    "# get the name of jobtitle from the list of jobtitle id\n",
    "def getjobtitlename(joblistList):\n",
    "    tempList=[]\n",
    "    for i in joblistList:\n",
    "        value = df_jobtitle[i]\n",
    "        tempList.append(value + ' /n')\n",
    "    return tempList\n",
    "\n",
    "\n",
    "#get the root of word from the text \n",
    "def lemmatize_stemming(text):\n",
    "    return WordNetLemmatizer().lemmatize(text, pos='v')\n",
    "\n",
    "# preprocessing function to remove stop words and perform lematization\n",
    "def preprocess(text):\n",
    "    result = []\n",
    "    for token in text:\n",
    "        if token not in gensim.parsing.preprocessing.STOPWORDS and token is not None:\n",
    "            result.append(lemmatize_stemming(token))\n",
    "    return result       "
   ]
  },
  {
   "cell_type": "code",
   "execution_count": 11,
   "metadata": {},
   "outputs": [
    {
     "data": {
      "text/plain": [
       "[('project', 5997),\n",
       " ('support', 4418),\n",
       " ('business', 4196),\n",
       " ('manage', 3435),\n",
       " ('software', 2778)]"
      ]
     },
     "execution_count": 11,
     "metadata": {},
     "output_type": "execute_result"
    }
   ],
   "source": [
    "# extract all skills from the dictionary and store the value in allSkillListCount\n",
    "\n",
    "allSkillDict= getSkillFromDict(distros_dict)\n",
    "allSkillListCount = sorted(allSkillDict.items(), key=lambda x: x[1], reverse=True)\n",
    "allSkillListCount[:5]"
   ]
  },
  {
   "cell_type": "code",
   "execution_count": 12,
   "metadata": {},
   "outputs": [
    {
     "data": {
      "text/html": [
       "<div>\n",
       "<style scoped>\n",
       "    .dataframe tbody tr th:only-of-type {\n",
       "        vertical-align: middle;\n",
       "    }\n",
       "\n",
       "    .dataframe tbody tr th {\n",
       "        vertical-align: top;\n",
       "    }\n",
       "\n",
       "    .dataframe thead th {\n",
       "        text-align: right;\n",
       "    }\n",
       "</style>\n",
       "<table border=\"1\" class=\"dataframe\">\n",
       "  <thead>\n",
       "    <tr style=\"text-align: right;\">\n",
       "      <th></th>\n",
       "      <th>skillName</th>\n",
       "      <th>Count</th>\n",
       "    </tr>\n",
       "  </thead>\n",
       "  <tbody>\n",
       "    <tr>\n",
       "      <th>0</th>\n",
       "      <td>project</td>\n",
       "      <td>5997</td>\n",
       "    </tr>\n",
       "    <tr>\n",
       "      <th>1</th>\n",
       "      <td>support</td>\n",
       "      <td>4418</td>\n",
       "    </tr>\n",
       "    <tr>\n",
       "      <th>2</th>\n",
       "      <td>business</td>\n",
       "      <td>4196</td>\n",
       "    </tr>\n",
       "    <tr>\n",
       "      <th>3</th>\n",
       "      <td>manage</td>\n",
       "      <td>3435</td>\n",
       "    </tr>\n",
       "    <tr>\n",
       "      <th>4</th>\n",
       "      <td>software</td>\n",
       "      <td>2778</td>\n",
       "    </tr>\n",
       "  </tbody>\n",
       "</table>\n",
       "</div>"
      ],
      "text/plain": [
       "  skillName  Count\n",
       "0   project   5997\n",
       "1   support   4418\n",
       "2  business   4196\n",
       "3    manage   3435\n",
       "4  software   2778"
      ]
     },
     "execution_count": 12,
     "metadata": {},
     "output_type": "execute_result"
    }
   ],
   "source": [
    "# convert the list allSkillListCount into dataframe \n",
    "skills = pd.DataFrame(allSkillListCount,columns=['skillName','Count'])\n",
    "skills['Count'] = skills.Count.astype('int')\n",
    "skills.head()"
   ]
  },
  {
   "cell_type": "code",
   "execution_count": 13,
   "metadata": {},
   "outputs": [],
   "source": [
    "# export the file into the local machine\n",
    "export_csv = skills.to_csv (r'export_skill.csv', index = None, header=True) "
   ]
  },
  {
   "cell_type": "code",
   "execution_count": 14,
   "metadata": {
    "scrolled": true
   },
   "outputs": [
    {
     "data": {
      "text/plain": [
       "Text(0.5, 0, 'Count')"
      ]
     },
     "execution_count": 14,
     "metadata": {},
     "output_type": "execute_result"
    },
    {
     "data": {
      "image/png": "[encoded data removed]",
      "text/plain": [
       "<Figure size 432x288 with 1 Axes>"
      ]
     },
     "metadata": {
      "needs_background": "light"
     },
     "output_type": "display_data"
    }
   ],
   "source": [
    "# visualize the top 40 ocurrence of skill \n",
    "skills[:30].plot.barh(x='skillName',y='Count',legend=False)\n",
    "plt.suptitle('skillName Distribution',fontsize=14)\n",
    "plt.xlabel('Count')"
   ]
  },
  {
   "cell_type": "code",
   "execution_count": 15,
   "metadata": {},
   "outputs": [
    {
     "data": {
      "text/html": [
       "<div>\n",
       "<style scoped>\n",
       "    .dataframe tbody tr th:only-of-type {\n",
       "        vertical-align: middle;\n",
       "    }\n",
       "\n",
       "    .dataframe tbody tr th {\n",
       "        vertical-align: top;\n",
       "    }\n",
       "\n",
       "    .dataframe thead th {\n",
       "        text-align: right;\n",
       "    }\n",
       "</style>\n",
       "<table border=\"1\" class=\"dataframe\">\n",
       "  <thead>\n",
       "    <tr style=\"text-align: right;\">\n",
       "      <th></th>\n",
       "      <th>JobTitle</th>\n",
       "      <th>Count</th>\n",
       "    </tr>\n",
       "  </thead>\n",
       "  <tbody>\n",
       "    <tr>\n",
       "      <th>0</th>\n",
       "      <td>software engineer</td>\n",
       "      <td>483</td>\n",
       "    </tr>\n",
       "    <tr>\n",
       "      <th>1</th>\n",
       "      <td>project manager</td>\n",
       "      <td>381</td>\n",
       "    </tr>\n",
       "    <tr>\n",
       "      <th>2</th>\n",
       "      <td>consultant</td>\n",
       "      <td>357</td>\n",
       "    </tr>\n",
       "    <tr>\n",
       "      <th>3</th>\n",
       "      <td>senior software engineer</td>\n",
       "      <td>349</td>\n",
       "    </tr>\n",
       "    <tr>\n",
       "      <th>4</th>\n",
       "      <td>software developer</td>\n",
       "      <td>318</td>\n",
       "    </tr>\n",
       "  </tbody>\n",
       "</table>\n",
       "</div>"
      ],
      "text/plain": [
       "                   JobTitle  Count\n",
       "0         software engineer    483\n",
       "1           project manager    381\n",
       "2                consultant    357\n",
       "3  senior software engineer    349\n",
       "4        software developer    318"
      ]
     },
     "execution_count": 15,
     "metadata": {},
     "output_type": "execute_result"
    }
   ],
   "source": [
    "# extract all jobtitle from the dictionary and store the values in jobTitleSkillLen\n",
    "\n",
    "jobTitleSkillLen = {} \n",
    "for distro in distros_dict:\n",
    "    jobTitleSkillLen.update({distro: len(distros_dict[distro])})\n",
    "\n",
    "sortedjobTitleSkillLen = sorted(jobTitleSkillLen.items(), key=lambda x: x[1], reverse=True)\n",
    "\n",
    "sortedjobTitleSkillLen = pd.DataFrame(sortedjobTitleSkillLen,columns=['JobTitle','Count'])\n",
    "sortedjobTitleSkillLen['Count'] = sortedjobTitleSkillLen.Count.astype('int')\n",
    "sortedjobTitleSkillLen.head()"
   ]
  },
  {
   "cell_type": "code",
   "execution_count": 16,
   "metadata": {},
   "outputs": [],
   "source": [
    "export_csv = sortedjobTitleSkillLen.to_csv (r'export_jobtitle.csv', index = None, header=True) #Don't forget to add '.csv' at the end of the path"
   ]
  },
  {
   "cell_type": "code",
   "execution_count": 17,
   "metadata": {},
   "outputs": [
    {
     "data": {
      "text/plain": [
       "Text(0.5, 0, 'Count')"
      ]
     },
     "execution_count": 17,
     "metadata": {},
     "output_type": "execute_result"
    },
    {
     "data": {
      "image/png": "[encoded data removed]",
      "text/plain": [
       "<Figure size 432x288 with 1 Axes>"
      ]
     },
     "metadata": {
      "needs_background": "light"
     },
     "output_type": "display_data"
    }
   ],
   "source": [
    "sortedjobTitleSkillLen[:30].plot.barh(x='JobTitle',y='Count',legend=False)\n",
    "plt.suptitle('JobTitle Distribution',fontsize=14)\n",
    "plt.xlabel('Count')"
   ]
  },
  {
   "cell_type": "code",
   "execution_count": 18,
   "metadata": {},
   "outputs": [],
   "source": [
    "SkillWithJobTitleDict = getJobtitleForSkill(list(skills.skillName),distros_dict)"
   ]
  },
  {
   "cell_type": "code",
   "execution_count": 19,
   "metadata": {},
   "outputs": [],
   "source": [
    "list1=[]\n",
    "for keys,values in SkillWithJobTitleDict.items():\n",
    "    list1.append((keys,len(values)))"
   ]
  },
  {
   "cell_type": "code",
   "execution_count": 20,
   "metadata": {},
   "outputs": [
    {
     "data": {
      "text/html": [
       "<div>\n",
       "<style scoped>\n",
       "    .dataframe tbody tr th:only-of-type {\n",
       "        vertical-align: middle;\n",
       "    }\n",
       "\n",
       "    .dataframe tbody tr th {\n",
       "        vertical-align: top;\n",
       "    }\n",
       "\n",
       "    .dataframe thead th {\n",
       "        text-align: right;\n",
       "    }\n",
       "</style>\n",
       "<table border=\"1\" class=\"dataframe\">\n",
       "  <thead>\n",
       "    <tr style=\"text-align: right;\">\n",
       "      <th></th>\n",
       "      <th>skillName</th>\n",
       "      <th>jobtitleCount</th>\n",
       "    </tr>\n",
       "  </thead>\n",
       "  <tbody>\n",
       "    <tr>\n",
       "      <th>0</th>\n",
       "      <td>project</td>\n",
       "      <td>4013</td>\n",
       "    </tr>\n",
       "    <tr>\n",
       "      <th>1</th>\n",
       "      <td>support</td>\n",
       "      <td>3188</td>\n",
       "    </tr>\n",
       "    <tr>\n",
       "      <th>2</th>\n",
       "      <td>business</td>\n",
       "      <td>2969</td>\n",
       "    </tr>\n",
       "    <tr>\n",
       "      <th>3</th>\n",
       "      <td>manage</td>\n",
       "      <td>2608</td>\n",
       "    </tr>\n",
       "    <tr>\n",
       "      <th>4</th>\n",
       "      <td>base</td>\n",
       "      <td>1718</td>\n",
       "    </tr>\n",
       "  </tbody>\n",
       "</table>\n",
       "</div>"
      ],
      "text/plain": [
       "  skillName  jobtitleCount\n",
       "0   project           4013\n",
       "1   support           3188\n",
       "2  business           2969\n",
       "3    manage           2608\n",
       "4      base           1718"
      ]
     },
     "execution_count": 20,
     "metadata": {},
     "output_type": "execute_result"
    }
   ],
   "source": [
    "list1 = sorted(list1, key=lambda tup: tup[1], reverse=True)\n",
    "skillsJobtitleCount = pd.DataFrame(list1,columns=['skillName','jobtitleCount'])\n",
    "skillsJobtitleCount['jobtitleCount'] = skillsJobtitleCount.jobtitleCount.astype('int')\n",
    "skillsJobtitleCount.head()"
   ]
  },
  {
   "cell_type": "code",
   "execution_count": 21,
   "metadata": {},
   "outputs": [
    {
     "data": {
      "text/plain": [
       "Text(0.5, 0, 'Count')"
      ]
     },
     "execution_count": 21,
     "metadata": {},
     "output_type": "execute_result"
    },
    {
     "data": {
      "image/png": "[encoded data removed]",
      "text/plain": [
       "<Figure size 432x288 with 1 Axes>"
      ]
     },
     "metadata": {
      "needs_background": "light"
     },
     "output_type": "display_data"
    }
   ],
   "source": [
    "skillsJobtitleCount[:30].plot.barh(x='skillName',y='jobtitleCount',legend=False)\n",
    "plt.suptitle('skill Distribution',fontsize=14)\n",
    "plt.xlabel('Count')"
   ]
  },
  {
   "cell_type": "code",
   "execution_count": 22,
   "metadata": {},
   "outputs": [
    {
     "data": {
      "image/png": "[encoded data removed]",
      "text/plain": [
       "<Figure size 842.4x595.44 with 1 Axes>"
      ]
     },
     "metadata": {},
     "output_type": "display_data"
    }
   ],
   "source": [
    "wordcloud_generated = MadeWordCloud(list(allSkillDict.keys()))"
   ]
  },
  {
   "cell_type": "code",
   "execution_count": 23,
   "metadata": {},
   "outputs": [
    {
     "data": {
      "text/plain": [
       "{'design': 1.0,\n",
       " 'sap': 0.875,\n",
       " 'business': 0.5625,\n",
       " 'microsoft': 0.53125,\n",
       " 'oracle': 0.46875,\n",
       " 'control': 0.46875,\n",
       " 'research': 0.40625,\n",
       " 'service': 0.34375,\n",
       " 'java': 0.34375,\n",
       " 'care': 0.34375,\n",
       " 'support': 0.3125,\n",
       " 'web': 0.3125,\n",
       " 'strategy': 0.3125,\n",
       " 'architecture': 0.28125,\n",
       " 'market': 0.28125,\n",
       " 'software': 0.25,\n",
       " 'server': 0.25,\n",
       " 'work': 0.25,\n",
       " 'law': 0.25,\n",
       " 'net': 0.21875,\n",
       " 'sql': 0.21875,\n",
       " 'tax': 0.21875,\n",
       " 'public': 0.21875,\n",
       " 'safety': 0.21875,\n",
       " 'access': 0.1875,\n",
       " 'hp': 0.1875,\n",
       " 'core': 0.1875,\n",
       " 'food': 0.1875,\n",
       " 'policy': 0.1875,\n",
       " 'api': 0.1875,\n",
       " 'script': 0.1875,\n",
       " 'iso': 0.1875,\n",
       " 'corporate': 0.1875,\n",
       " 'international': 0.1875,\n",
       " 'social': 0.1875,\n",
       " 'ms': 0.1875,\n",
       " 'technical': 0.15625,\n",
       " 'finance': 0.15625,\n",
       " 'enterprise': 0.15625,\n",
       " 'network': 0.15625,\n",
       " 'audit': 0.15625,\n",
       " 'hardware': 0.15625,\n",
       " 'customer': 0.15625,\n",
       " 'property': 0.15625,\n",
       " 'english': 0.15625,\n",
       " 'electronic': 0.15625,\n",
       " 'vmware': 0.15625,\n",
       " 'process': 0.15625,\n",
       " 'equity': 0.15625,\n",
       " 'spring': 0.15625,\n",
       " 'apache': 0.15625,\n",
       " 'erp': 0.15625,\n",
       " 'js': 0.15625,\n",
       " 'adobe': 0.15625,\n",
       " 'science': 0.15625,\n",
       " 'clinical': 0.15625,\n",
       " 'health': 0.15625,\n",
       " 'sql server': 0.15625,\n",
       " 'project': 0.125,\n",
       " 'test': 0.125,\n",
       " 'engineer': 0.125,\n",
       " 'linux': 0.125,\n",
       " 'windows': 0.125,\n",
       " 'ibm': 0.125,\n",
       " 'gas': 0.125,\n",
       " 'live': 0.125,\n",
       " 'logistic': 0.125,\n",
       " 'technology': 0.125,\n",
       " 'bi': 0.125,\n",
       " 'intelligence': 0.125,\n",
       " 'data': 0.125,\n",
       " 'legal': 0.125,\n",
       " 'framework': 0.125,\n",
       " 'power': 0.125,\n",
       " 'life': 0.125,\n",
       " 'art': 0.125,\n",
       " 'hr': 0.125,\n",
       " 'search': 0.125,\n",
       " 'chemistry': 0.125,\n",
       " 'foreign': 0.125,\n",
       " 'de': 0.125,\n",
       " '3d': 0.125,\n",
       " 'microsoft dynamics': 0.125,\n",
       " 'online': 0.09375,\n",
       " 'database': 0.09375,\n",
       " 'credit': 0.09375,\n",
       " 'android': 0.09375,\n",
       " 'crm': 0.09375,\n",
       " 'front': 0.09375,\n",
       " 'direct': 0.09375,\n",
       " 'video': 0.09375,\n",
       " 'french': 0.09375,\n",
       " 'import': 0.09375,\n",
       " 'inventory': 0.09375,\n",
       " 'steel': 0.09375,\n",
       " 'infrastructure': 0.09375,\n",
       " 'exchange': 0.09375,\n",
       " 'warehouse': 0.09375,\n",
       " 'road': 0.09375,\n",
       " 'sccm': 0.09375,\n",
       " 'cisco': 0.09375,\n",
       " 'transport': 0.09375,\n",
       " 'mail': 0.09375,\n",
       " 'ii': 0.09375,\n",
       " 'ps': 0.09375,\n",
       " 'ip': 0.09375,\n",
       " 'cost': 0.09375,\n",
       " 'trade': 0.09375,\n",
       " 'visio': 0.09375,\n",
       " 'lync': 0.09375,\n",
       " 'outlook': 0.09375,\n",
       " 'black': 0.09375,\n",
       " 'surgery': 0.09375,\n",
       " 'direction': 0.09375,\n",
       " 'medicine': 0.09375,\n",
       " 'japanese': 0.09375,\n",
       " 'language': 0.09375,\n",
       " 'risk': 0.09375,\n",
       " 'center': 0.09375,\n",
       " 'brand': 0.09375,\n",
       " 'awareness': 0.09375,\n",
       " 'travel': 0.09375,\n",
       " 'change': 0.09375,\n",
       " 'os': 0.09375,\n",
       " 'patient': 0.09375,\n",
       " 'primavera': 0.09375,\n",
       " 'home': 0.09375,\n",
       " 'biology': 0.09375,\n",
       " 'private': 0.09375,\n",
       " 'studio': 0.09375,\n",
       " 'gaap': 0.09375,\n",
       " 'act': 0.09375,\n",
       " 'fire': 0.09375,\n",
       " 'pro': 0.09375,\n",
       " 'max': 0.09375,\n",
       " 'real estate': 0.09375,\n",
       " 'desarrollo de': 0.09375,\n",
       " 'protocol': 0.0625,\n",
       " 'case': 0.0625,\n",
       " 'external': 0.0625,\n",
       " 'aix': 0.0625,\n",
       " 'help': 0.0625,\n",
       " 'jira': 0.0625,\n",
       " 'water': 0.0625,\n",
       " 'house': 0.0625,\n",
       " 'qc': 0.0625,\n",
       " 'drive': 0.0625,\n",
       " 'retail': 0.0625,\n",
       " 'channel': 0.0625,\n",
       " 'purchase': 0.0625,\n",
       " 'vb': 0.0625,\n",
       " 'mac': 0.0625,\n",
       " 'end': 0.0625,\n",
       " 'query': 0.0625,\n",
       " 'guide': 0.0625,\n",
       " 'app': 0.0625,\n",
       " 'oil': 0.0625,\n",
       " 'agile': 0.0625,\n",
       " 'selenium': 0.0625,\n",
       " 'webdriver': 0.0625,\n",
       " 'scrum': 0.0625,\n",
       " 'point': 0.0625,\n",
       " 'qtp': 0.0625,\n",
       " 'html': 0.0625,\n",
       " 'j2ee': 0.0625,\n",
       " 'animation': 0.0625,\n",
       " 'cloud': 0.0625,\n",
       " 'freight': 0.0625,\n",
       " 'cash': 0.0625,\n",
       " 'flow': 0.0625,\n",
       " 'healthcare': 0.0625,\n",
       " 'fico': 0.0625,\n",
       " 'db2': 0.0625,\n",
       " 'itil': 0.0625,\n",
       " 'profit': 0.0625,\n",
       " 'medicare': 0.0625,\n",
       " 'salesforce': 0.0625,\n",
       " 'asp': 0.0625,\n",
       " 'dba': 0.0625,\n",
       " 'technician': 0.0625,\n",
       " 'desk': 0.0625,\n",
       " 'desktop': 0.0625,\n",
       " 'internal': 0.0625,\n",
       " 'powerpoint': 0.0625,\n",
       " 'export': 0.0625,\n",
       " 'amazon': 0.0625,\n",
       " 'sector': 0.0625,\n",
       " 'catia': 0.0625,\n",
       " 'mvc': 0.0625,\n",
       " 'rest': 0.0625,\n",
       " 'servlet': 0.0625,\n",
       " 'ui': 0.0625,\n",
       " 'experience': 0.0625,\n",
       " 'abap': 0.0625,\n",
       " 'tennis': 0.0625,\n",
       " 'ledger': 0.0625,\n",
       " 'ant': 0.0625,\n",
       " 'document': 0.0625,\n",
       " 'sd': 0.0625,\n",
       " 'bmc': 0.0625}"
      ]
     },
     "execution_count": 23,
     "metadata": {},
     "output_type": "execute_result"
    }
   ],
   "source": [
    "wordcloud_generated.words_"
   ]
  },
  {
   "cell_type": "markdown",
   "metadata": {},
   "source": [
    "# Data prepration for topic modelling"
   ]
  },
  {
   "cell_type": "code",
   "execution_count": 24,
   "metadata": {},
   "outputs": [],
   "source": [
    "df_skill = []\n",
    "df_jobtitle=[]\n",
    "for key,value in distros_dict.items():\n",
    "    if bool(value):\n",
    "        df_jobtitle.append(key)\n",
    "        df_skill.append((preprocess(value.keys()),list(value.values())))\n",
    "\n"
   ]
  },
  {
   "cell_type": "code",
   "execution_count": 25,
   "metadata": {},
   "outputs": [
    {
     "data": {
      "text/plain": [
       "0                            ([kitchen, chef], [1, 1])\n",
       "1                     ([project, manufacture], [1, 1])\n",
       "2    ([software, simulink, matlab, software test en...\n",
       "3                                      ([oracle], [1])\n",
       "4                                       ([dubai], [1])\n",
       "dtype: object"
      ]
     },
     "execution_count": 25,
     "metadata": {},
     "output_type": "execute_result"
    }
   ],
   "source": [
    "df_skill = pd.Series(df_skill)\n",
    "df_skill.head()"
   ]
  },
  {
   "cell_type": "code",
   "execution_count": 26,
   "metadata": {},
   "outputs": [],
   "source": [
    "countSkillList=[]\n",
    "SkillList=[]\n",
    "for keys,values in df_skill:\n",
    "    SkillList.append(keys)\n",
    "    countSkillList.append(list(zip(keys, values)))\n",
    "    \n",
    "flatten_skill_list = [j for sub in SkillList for j in sub]\n",
    "flatten_skill_list = gensim.corpora.Dictionary([flatten_skill_list])\n",
    "# flatten_skill_list =pd.Series(flatten_skill_list)"
   ]
  },
  {
   "cell_type": "code",
   "execution_count": 27,
   "metadata": {},
   "outputs": [],
   "source": [
    "tupleCountSkill=[]\n",
    "TitleSkilllist=[]\n",
    "x=0\n",
    "for i in countSkillList:\n",
    "    tempList = []\n",
    "    for j in range(len(i)):\n",
    "        skill_id= [k for (k, v) in flatten_skill_list.iteritems() if v ==  i[j][0]][0]\n",
    "        TitleSkilllist.append((x,skill_id,i[j][1]))\n",
    "        tempList.append((skill_id,i[j][1]))\n",
    "    x=x+1\n",
    "    tupleCountSkill.append(tempList)\n"
   ]
  },
  {
   "cell_type": "code",
   "execution_count": 28,
   "metadata": {},
   "outputs": [],
   "source": [
    "df_TitleSkilllist = pd.DataFrame(TitleSkilllist, columns=['jobtitle_id', 'skill_id', 'count'])\n"
   ]
  },
  {
   "cell_type": "markdown",
   "metadata": {},
   "source": [
    "# Topic Modelling"
   ]
  },
  {
   "cell_type": "code",
   "execution_count": 29,
   "metadata": {},
   "outputs": [],
   "source": [
    "lda_model = gensim.models.LdaMulticore(tupleCountSkill, num_topics=10, id2word=flatten_skill_list, passes=2, workers=2)"
   ]
  },
  {
   "cell_type": "code",
   "execution_count": 30,
   "metadata": {},
   "outputs": [
    {
     "name": "stdout",
     "output_type": "stream",
     "text": [
      "Topic: 0 \n",
      "Words: 0.058*\"business\" + 0.052*\"manage\" + 0.044*\"project\" + 0.037*\"sale\" + 0.033*\"support\" + 0.021*\"policy\" + 0.020*\"base\" + 0.020*\"strategy\" + 0.014*\"credit\" + 0.013*\"monitor\"\n",
      "Topic: 1 \n",
      "Words: 0.042*\"project\" + 0.037*\"manage\" + 0.035*\"business\" + 0.031*\"support\" + 0.031*\"base\" + 0.020*\"sale\" + 0.020*\"monitor\" + 0.017*\"strategy\" + 0.015*\"technology\" + 0.015*\"environment\"\n",
      "Topic: 2 \n",
      "Words: 0.035*\"support\" + 0.034*\"project\" + 0.034*\"software\" + 0.025*\"business\" + 0.024*\"base\" + 0.022*\"environment\" + 0.019*\"server\" + 0.017*\"web\" + 0.014*\"oracle\" + 0.014*\"case\"\n",
      "Topic: 3 \n",
      "Words: 0.075*\"project\" + 0.048*\"business\" + 0.047*\"support\" + 0.035*\"sale\" + 0.023*\"manage\" + 0.020*\"sap\" + 0.017*\"software\" + 0.014*\"model\" + 0.012*\"base\" + 0.012*\"research\"\n",
      "Topic: 4 \n",
      "Words: 0.028*\"software\" + 0.026*\"web\" + 0.022*\"java\" + 0.020*\"server\" + 0.020*\"project\" + 0.019*\"html\" + 0.019*\"javascript\" + 0.017*\"technology\" + 0.017*\"sql\" + 0.015*\"c\"\n",
      "Topic: 5 \n",
      "Words: 0.045*\"software\" + 0.044*\"project\" + 0.027*\"finance\" + 0.019*\"manage\" + 0.017*\"case\" + 0.016*\"water\" + 0.014*\"business\" + 0.014*\"network\" + 0.014*\"base\" + 0.013*\"book\"\n",
      "Topic: 6 \n",
      "Words: 0.056*\"project\" + 0.036*\"manage\" + 0.033*\"support\" + 0.028*\"software\" + 0.025*\"network\" + 0.025*\"research\" + 0.023*\"business\" + 0.022*\"infrastructure\" + 0.021*\"strategy\" + 0.015*\"external\"\n",
      "Topic: 7 \n",
      "Words: 0.038*\"project\" + 0.031*\"web\" + 0.025*\"support\" + 0.021*\"manage\" + 0.019*\"software\" + 0.018*\"business\" + 0.017*\"sale\" + 0.016*\"network\" + 0.016*\"hardware\" + 0.015*\"french\"\n",
      "Topic: 8 \n",
      "Words: 0.052*\"support\" + 0.050*\"project\" + 0.031*\"business\" + 0.030*\"technology\" + 0.025*\"software\" + 0.023*\"research\" + 0.021*\"monitor\" + 0.021*\"network\" + 0.020*\"audit\" + 0.017*\"manage\"\n",
      "Topic: 9 \n",
      "Words: 0.042*\"project\" + 0.035*\"support\" + 0.030*\"manage\" + 0.029*\"business\" + 0.024*\"environment\" + 0.021*\"base\" + 0.020*\"server\" + 0.015*\"network\" + 0.015*\"software\" + 0.013*\"infrastructure\"\n"
     ]
    }
   ],
   "source": [
    "for idx, topic in lda_model.print_topics(-1):\n",
    "    print('Topic: {} \\nWords: {}'.format(idx, topic))"
   ]
  },
  {
   "cell_type": "code",
   "execution_count": 31,
   "metadata": {},
   "outputs": [],
   "source": [
    "from gensim import corpora, models\n",
    "\n",
    "tfidf = models.TfidfModel(tupleCountSkill)\n",
    "corpus_tfidf = tfidf[tupleCountSkill]"
   ]
  },
  {
   "cell_type": "code",
   "execution_count": 32,
   "metadata": {},
   "outputs": [],
   "source": [
    "lda_model_tfidf = gensim.models.LdaMulticore(corpus_tfidf, num_topics=20, id2word=flatten_skill_list, passes=2, workers=4)"
   ]
  },
  {
   "cell_type": "code",
   "execution_count": 33,
   "metadata": {},
   "outputs": [
    {
     "name": "stdout",
     "output_type": "stream",
     "text": [
      "[(1099, 0.715472315770316), (364, 0.6986410847969518)]\n"
     ]
    }
   ],
   "source": [
    "for doc in corpus_tfidf:\n",
    "    print(doc)\n",
    "    break"
   ]
  },
  {
   "cell_type": "code",
   "execution_count": 34,
   "metadata": {},
   "outputs": [
    {
     "name": "stdout",
     "output_type": "stream",
     "text": [
      "Topic: 0 Word: 0.049*\"project\" + 0.012*\"manage\" + 0.011*\"software\" + 0.010*\"base\" + 0.010*\"web\" + 0.009*\"case\" + 0.009*\"monitor\" + 0.008*\"membership\" + 0.007*\"support\" + 0.007*\"aerospace\"\n",
      "Topic: 1 Word: 0.019*\"software\" + 0.014*\"support\" + 0.014*\"technician\" + 0.012*\"project\" + 0.011*\"base\" + 0.011*\"business\" + 0.011*\"technology\" + 0.010*\"core\" + 0.009*\"manage\" + 0.009*\"java\"\n",
      "Topic: 2 Word: 0.020*\"logistic\" + 0.016*\"aspect\" + 0.015*\"support\" + 0.015*\"monitor\" + 0.015*\"manage\" + 0.014*\"project\" + 0.013*\"software\" + 0.011*\"c\" + 0.011*\"business\" + 0.011*\"base\"\n",
      "Topic: 3 Word: 0.015*\"support\" + 0.015*\"sale\" + 0.014*\"network\" + 0.014*\"software\" + 0.013*\"water\" + 0.012*\"manage\" + 0.012*\"profile\" + 0.012*\"credit\" + 0.012*\"project\" + 0.012*\"produce\"\n",
      "Topic: 4 Word: 0.015*\"business\" + 0.015*\"retail\" + 0.013*\"project\" + 0.013*\"sale\" + 0.013*\"strategy\" + 0.011*\"laboratory\" + 0.011*\"manage\" + 0.010*\"manufacture\" + 0.009*\"truck\" + 0.009*\"software\"\n",
      "Topic: 5 Word: 0.032*\"manage\" + 0.017*\"project\" + 0.016*\"r&d\" + 0.015*\"technology\" + 0.013*\"business\" + 0.013*\"support\" + 0.011*\"software\" + 0.011*\"html\" + 0.011*\"base\" + 0.010*\"css\"\n",
      "Topic: 6 Word: 0.029*\"purchase\" + 0.020*\"manage\" + 0.018*\"business\" + 0.017*\"strategy\" + 0.016*\"project\" + 0.016*\"research\" + 0.015*\"direct\" + 0.014*\"sale\" + 0.013*\"support\" + 0.011*\"equity\"\n",
      "Topic: 7 Word: 0.016*\"strategy\" + 0.014*\"project\" + 0.014*\"manage\" + 0.014*\"business\" + 0.014*\"software\" + 0.013*\"support\" + 0.013*\"base\" + 0.011*\"model\" + 0.011*\"hardware\" + 0.009*\"network\"\n",
      "Topic: 8 Word: 0.041*\"customer service\" + 0.020*\"business\" + 0.018*\"support\" + 0.017*\"sale\" + 0.016*\"sap\" + 0.014*\"project\" + 0.013*\"manage\" + 0.012*\"channel\" + 0.009*\"customer support\" + 0.009*\"food\"\n",
      "Topic: 9 Word: 0.012*\"project\" + 0.012*\"inventory\" + 0.010*\"manage\" + 0.010*\"warehouse\" + 0.010*\"business\" + 0.010*\"support\" + 0.009*\"environment\" + 0.009*\"architecture\" + 0.009*\"software\" + 0.008*\"sql\"\n",
      "Topic: 10 Word: 0.024*\"book\" + 0.016*\"claim\" + 0.015*\"sale\" + 0.014*\"business\" + 0.013*\"drive\" + 0.010*\"software\" + 0.010*\"manage\" + 0.010*\"project\" + 0.010*\"house\" + 0.010*\"case\"\n",
      "Topic: 11 Word: 0.034*\"sale\" + 0.028*\"project\" + 0.017*\"finance\" + 0.015*\"support\" + 0.015*\"business\" + 0.013*\"network\" + 0.011*\"monitor\" + 0.011*\"strategy\" + 0.010*\"manage\" + 0.010*\"legal\"\n",
      "Topic: 12 Word: 0.016*\"project\" + 0.015*\"support\" + 0.014*\"network\" + 0.014*\"strategy\" + 0.013*\"environment\" + 0.013*\"business\" + 0.011*\"base\" + 0.011*\"manage\" + 0.010*\"infrastructure\" + 0.009*\"enterprise\"\n",
      "Topic: 13 Word: 0.016*\"sale\" + 0.013*\"support\" + 0.012*\"business\" + 0.012*\"key account\" + 0.012*\"manage\" + 0.011*\"project\" + 0.011*\"base\" + 0.011*\"sql\" + 0.010*\"server\" + 0.010*\"network\"\n",
      "Topic: 14 Word: 0.027*\"software\" + 0.026*\"research\" + 0.023*\"business\" + 0.020*\"support\" + 0.019*\"manage\" + 0.017*\"policy\" + 0.017*\"project\" + 0.014*\"query\" + 0.011*\"sap\" + 0.010*\"base\"\n",
      "Topic: 15 Word: 0.018*\"external\" + 0.014*\"base\" + 0.014*\"manage\" + 0.014*\"project\" + 0.014*\"support\" + 0.013*\"software\" + 0.012*\"research\" + 0.011*\"customer service\" + 0.010*\"sale\" + 0.010*\"business\"\n",
      "Topic: 16 Word: 0.072*\"sale\" + 0.044*\"business\" + 0.026*\"audit\" + 0.023*\"manage\" + 0.016*\"support\" + 0.014*\"customer service\" + 0.014*\"point\" + 0.014*\"network\" + 0.013*\"project\" + 0.012*\"policy\"\n",
      "Topic: 17 Word: 0.020*\"support\" + 0.018*\"project\" + 0.015*\"business\" + 0.015*\"environment\" + 0.012*\"base\" + 0.012*\"credit\" + 0.011*\"web\" + 0.011*\"software\" + 0.010*\"server\" + 0.009*\"manage\"\n",
      "Topic: 18 Word: 0.025*\"support\" + 0.021*\"project\" + 0.017*\"train\" + 0.016*\"english\" + 0.013*\"business\" + 0.013*\"sale\" + 0.012*\"strategy\" + 0.011*\"manage\" + 0.011*\"technology\" + 0.010*\"sap\"\n",
      "Topic: 19 Word: 0.016*\"manage\" + 0.014*\"project\" + 0.012*\"software\" + 0.011*\"reliability\" + 0.011*\"support\" + 0.011*\"business\" + 0.010*\"technology\" + 0.009*\"research\" + 0.009*\"environment\" + 0.009*\"strategy\"\n"
     ]
    }
   ],
   "source": [
    "for idx, topic in lda_model_tfidf.print_topics(-1):\n",
    "    print('Topic: {} Word: {}'.format(idx, topic))"
   ]
  },
  {
   "cell_type": "markdown",
   "metadata": {},
   "source": [
    "##  Data cleaning to remove bad words"
   ]
  },
  {
   "cell_type": "code",
   "execution_count": 35,
   "metadata": {},
   "outputs": [],
   "source": [
    "sortedjobTitleSkillLen['JobTitle'] = sortedjobTitleSkillLen['JobTitle'].apply(lambda x: cleanTitles(x))"
   ]
  },
  {
   "cell_type": "code",
   "execution_count": 36,
   "metadata": {},
   "outputs": [],
   "source": [
    "skillsJobtitleCount['skillName'] = skillsJobtitleCount['skillName'].apply(lambda x: cleanskills(x))"
   ]
  },
  {
   "cell_type": "markdown",
   "metadata": {},
   "source": [
    "# Calculate word vector using spacy en_core_web_sm and perfrom the clustering of the skills and jobtitles"
   ]
  },
  {
   "cell_type": "code",
   "execution_count": 37,
   "metadata": {},
   "outputs": [],
   "source": [
    "import spacy\n",
    "import en_core_web_sm\n",
    "nlp = en_core_web_sm.load()\n",
    "# nlp = spacy.load('en_core_web_lg')"
   ]
  },
  {
   "cell_type": "code",
   "execution_count": 38,
   "metadata": {},
   "outputs": [],
   "source": [
    "vectorsSkills = []\n",
    "counter = 0 \n",
    "\n",
    "for index, row in skillsJobtitleCount[1700:].iterrows():\n",
    "    vectorsSkills.append(nlp(row['skillName']).vector / np.linalg.norm(nlp(row['skillName']).vector))"
   ]
  },
  {
   "cell_type": "code",
   "execution_count": 39,
   "metadata": {},
   "outputs": [
    {
     "name": "stdout",
     "output_type": "stream",
     "text": [
      "scoreSkill done.\n",
      "clusterSkill done.\n"
     ]
    }
   ],
   "source": [
    "numclusters   = range(1, 10)\n",
    "kmeans        = [KMeans(n_clusters=i) for i in numclusters]\n",
    "kSkill       = [kmeans[i].fit(vectorsSkills) for i in range(len(kmeans))]\n",
    "scoreSkill   = [kSkill[i].score(vectorsSkills) for i in range(len(kmeans))]\n",
    "print('scoreSkill done.')\n",
    "clusterSkill = [kSkill[i].labels_ for i in range(len(kmeans))]\n",
    "print('clusterSkill done.')"
   ]
  },
  {
   "cell_type": "code",
   "execution_count": 40,
   "metadata": {},
   "outputs": [
    {
     "data": {
      "text/plain": [
       "['manage /n',\n",
       " 'strategy /n',\n",
       " 'finance /n',\n",
       " 'direct /n',\n",
       " 'customer service /n',\n",
       " 'c /n',\n",
       " 'ip /n',\n",
       " 'wireless /n',\n",
       " 'laboratory /n',\n",
       " 'mysql /n',\n",
       " 'mvc /n',\n",
       " 'safe /n',\n",
       " 'fit /n',\n",
       " 'vpn /n',\n",
       " 'maven /n',\n",
       " 'selenium /n',\n",
       " 'command /n',\n",
       " 'mortgage /n',\n",
       " 'onshore /n',\n",
       " 'agile methodology /n',\n",
       " 'bridge /n',\n",
       " 'general ledger /n',\n",
       " 'fda /n',\n",
       " 'jboss /n',\n",
       " 'autocad /n',\n",
       " 'des /n',\n",
       " 'java script /n',\n",
       " 'customer experience /n',\n",
       " 'photoshop /n',\n",
       " 'kitchen /n',\n",
       " 'philippines /n',\n",
       " 'gold /n',\n",
       " 'ejb /n',\n",
       " 'testng /n',\n",
       " 'teradata /n',\n",
       " 'analog /n',\n",
       " 'geography /n',\n",
       " 'medicine /n',\n",
       " 'wsdl /n',\n",
       " 'petroleum /n',\n",
       " 'server 2003 /n',\n",
       " 'github /n',\n",
       " 'att /n']"
      ]
     },
     "execution_count": 40,
     "metadata": {},
     "output_type": "execute_result"
    }
   ],
   "source": [
    "cluster0 = [i for i, e in enumerate(list(clusterSkill[8])) if e == 5]\n",
    "# 0,1,4,7 is clean\n",
    "# 5,2,3 is not clean\n",
    "getdata(cluster0,skillsJobtitleCount['skillName'])"
   ]
  },
  {
   "cell_type": "code",
   "execution_count": 41,
   "metadata": {},
   "outputs": [
    {
     "name": "stdout",
     "output_type": "stream",
     "text": [
      "silhouettSkill done.\n"
     ]
    }
   ],
   "source": [
    "silhouetteSkill   = [silhouette_score(vectorsSkills, kmeans[i + 1].fit_predict(vectorsSkills)) for i in range(len(kmeans) - 1)]\n",
    "print('silhouettSkill done.')"
   ]
  },
  {
   "cell_type": "code",
   "execution_count": 42,
   "metadata": {},
   "outputs": [
    {
     "data": {
      "text/plain": [
       "[<matplotlib.lines.Line2D at 0x7f9cb524af60>]"
      ]
     },
     "execution_count": 42,
     "metadata": {},
     "output_type": "execute_result"
    },
    {
     "data": {
      "image/png": "[encoded data removed]",
      "text/plain": [
       "<Figure size 1080x1440 with 1 Axes>"
      ]
     },
     "metadata": {},
     "output_type": "display_data"
    }
   ],
   "source": [
    "sns.set()\n",
    "fig, axs = plt.subplots(figsize=(15,20))\n",
    "axs.plot( silhouetteSkill)\n",
    "# silhouetteSkill.plot()"
   ]
  },
  {
   "cell_type": "markdown",
   "metadata": {},
   "source": [
    "# Calculate tf-idf and perfrom the clustering of the skills and jobtitles\n"
   ]
  },
  {
   "cell_type": "code",
   "execution_count": 43,
   "metadata": {},
   "outputs": [],
   "source": [
    "TfIdfSkilllist=[]\n",
    "x=0\n",
    "for i in corpus_tfidf:\n",
    "    tempList = []\n",
    "    for j in range(len(i)):\n",
    "        TfIdfSkilllist.append((x,i[j][0],i[j][1]))\n",
    "    x=x+1\n",
    "        "
   ]
  },
  {
   "cell_type": "code",
   "execution_count": 44,
   "metadata": {},
   "outputs": [],
   "source": [
    "TfIdfSkilllist = pd.DataFrame(TfIdfSkilllist, columns=['jobtitle_id', 'skill_id', 'value'])\n",
    "TfIdfSkilllist=TfIdfSkilllist.pivot('jobtitle_id', 'skill_id', 'value').fillna(0)"
   ]
  },
  {
   "cell_type": "code",
   "execution_count": 45,
   "metadata": {},
   "outputs": [],
   "source": [
    "kmeans = KMeans(n_clusters=30).fit(TfIdfSkilllist)"
   ]
  },
  {
   "cell_type": "code",
   "execution_count": 46,
   "metadata": {},
   "outputs": [],
   "source": [
    "def ClusterIndicesNumpy(clustNum, labels_array): #numpy \n",
    "    return np.where(labels_array == clustNum)[0]\n",
    "\n",
    "def getSkillname(skillList):\n",
    "    tempList=[]\n",
    "    for i in skillList:\n",
    "        value = [v for (k, v) in flatten_skill_list.iteritems() if k == i]\n",
    "        tempList.append((i,value))\n",
    "    return tempList\n",
    "\n",
    "def getjobtitlename(joblistList):\n",
    "    tempList=[]\n",
    "    for i in joblistList:\n",
    "        value = df_jobtitle[i]\n",
    "        tempList.append(value + ' /n')\n",
    "    return tempList\n",
    "        "
   ]
  },
  {
   "cell_type": "code",
   "execution_count": 47,
   "metadata": {},
   "outputs": [
    {
     "name": "stdout",
     "output_type": "stream",
     "text": [
      "['microcontroller survey /n', 'research scientist /n', 'validation engineer /n', 'plant product engineer /n', 'quality engineer /n', 'laboratory analyst /n', 'laboratory young engineer /n', 'toolroom manager /n', 'student practice /n', 'sr. information systems validation engineer /n', 'project engineering and consulting project manager and engineering consultant /n', 'technical leader - program manager /n', 'quality manager /n', 'lecturer /n', 'technical manager /n', 'quality assurance assistant /n', 'pharmacovigilance officer /n', 'qa, qc, regulatory affairs & pharmacovigilance consultant /n', 'qa associate /n', 'quality assurance associate /n', 'engineering planner /n', 'qa officer /n', 'associate professor /n', 'quality supervisor & lab engineer /n', 'quality and safety manager /n', 'r&d laboratory technician /n', 'junior scientist, laboratory for biomaterials and regenerative medicine usa /n', 'senior engineering officer (planning) /n', 'senior scientist /n', 'senior qc inspector /n', 'quality associate scientist /n', 'manufacturing engineer /n', 'validation associate iii / quality associate iii /n', 'validation analyst /n', 'medical device engineer /n', 'computer system validation intern /n', 'research associate i /n', 'chemist ii /n', 'scientist i /n', 'qc analyst /n', 'application specialist /n', 'sr. validation scientist, supervisor /n', 'sr. validation engineer /n', 'supplier quality engineer /n', 'quality assurance chemist /n', 'program manager/senior scientist /n', 'regulatory affairs associate and quality assurance specialist /n', 'regulatory affairs associate/quality assurance specialist /n', 'curriculum internship /n', 'validation specialist /n', 'environmental chemist /n', 'senior it project manager (consultant) /n', 'head of production /n', 'undergraduate teaching assistant /n', 'project manager / engineer /n', 'process specialist /n', 'student medical technologist /n', 'trainee laboratory assistant /n', 'assistant position, molecular biology, university of liège /n', 'parts quality engineer /n', 'international assignment /n', 'chemical engineer intern /n', 'staff accountant /n', 'sr. validation officer /n', 'biotechnician /n', 'internship in a research laboratory (pharmaceutical technology berlin) /n', 'internship in a dry form laboratory /n', 'quality specialist /n', 'quality analyst /n', 'international sales manager /n', 'engineering assistant /n', 'sr. quality engineer/ validation engineer /n', 'sr. quality engineer / validation engineer /n', 'assistant hydrographic surveyor /n', 'responsable excellence analytique /n', 'pharmacovigilance /n', 'laboratory technician / quality control scientist /n', 'trainee supervisor of audio-visual editing laboratory /n', 'validation consultant /n', 'project manager consultant /n', 'investigador /n', 'engineer, research & development /n', 'qc inspector /n', 'consultant industrie pharmaceutique /n', 'composite materials research assistant /n', 'senior emc compliance engineer /n', 'process and facilty engineer /n', 'assistant team leader/offline support /n', 'system & business analyst / research engineer / researcher /n', 'quality assurance /n', 'operation support specialist /n', 'documentation officer /n', 'quality assurance officer /n', 'phd student /n', 'manufacturing quality engineer iii /n', 'laboratory analyst and quality control /n', 'quality and manufacturinm process control engineer /n', 'new product development manager /n', 'senior executive in qa /n', 'quality assurance specialist /n', 'inspection technician /n', 'quality operations engineer /n', 'validation coordinator /n', 'validation analyst/technical writer /n', 'contract project and validation engineer /n', 'validation engineer / technical services /n', 'research associate- analytical development laboratory /n', 'asst quality manager /n', 'deputy manager (qa/qc) /n', 'senior scientific officer /n', 'research associate-analytical /n', '; executive - analytical development /n', 'structure engineer /n', 'head of laboratory services - life sciences services /n', 'executive-production /n', 'section head (qc officer) /n', 'process engineer & lean six sigma advisor /n', 'quality asurance manager /n', 'laboratory intern /n', 'laboratory service representative /n', 'manufacturing associate iii /n', 'quality control analyst /n', 'isc customer service officer /n', 'teamleader & quality engineer /n', 'raqa manager /n', 'laboratory assistant /n', 'senior lab technician analytical development/quality control /n', 'quality inspection auditor and control /n', 'intern in device engineering department /n', 'adhesive research intern /n', 'performance analytics engineer /n', 'senior validation engineer/ team lead /n', 'manufacturing operations manager /n', 'senior laboratory technician /n', 'medical laboratory assistant /n', 'production/project manager /n', 'qa /n', '\"dairy technologist /n', 'graduate student assistant-wayne /n', 'emc department manager and walter p. chrysler technical fellow /n', 'medical device auditor /n', 'assistant professor /n', 'senior medical laboratory scientific officer /n', 'product quality manager- internal supply consumer health /n', 'quality systems associate /n', 'advanced technician /n', 'quality assurance operations specialist /n', 'manager, quality assurance /n', 'senior manager, research quality assurance /n', 'quality system coordinator /n', 'lead qms auditor /n', 'quality control supervisor /n', 'research assistant, department of mechanical and materials engineering /n', 'pharmaceutical operational quality engineer /n', 'manager \\xad customer care (sales & marketing support & services) /n', 'joint research proposals /n', '\" mep qa/qc electrical inspector /n', 'associate clinical project manager /n', 'external consultant /n', 'training specialist /n', 'qa quality control operations /n', 'research partnership /n', 'junior r&d specialist medical device /n', 'new product development technologist /n', 'analytical chemist /n', 'environmental monitoring laboratory supervisor /n', 'head of laboratory /n', 'pharmacology research assistant /n', 'data officer /n', 'laboratory internship, margarine and sauces analysis and investigation of production processes /n', \"research assistant in dr. isabelle rouiller's research laboratory /n\", 'management training in qa department /n', 'senior quality assurance auditor /n', 'quality control senior officer /n', 'laboratory supervisor, lab technician /n', 'clinical trials administrator /n', 'executive quality assurance /n', 'assistant manager quality assurance /n', 'compliance officer - pharmacist /n', 'control room team leader /n', \"master's research associate /n\", 'undergraduate honours thesis student and research assistant /n', 'msc candidate /n', 'pharmaceutical researcher - internship /n', 'technical operator /n', 'material review board engineer /n', 'business support /n', 'department of transportation /n', 'chief inspector - safety specialist /n', 'head of regulatory affairs biotechnology /n', 'adjunct professor ##// search engine advertising (sea) ## /n', 'quality analytical laboratory associate /n', 'project engineer scientific laboratory /n', 'quality control manager /n', 'manufacturing process technician /n', 'application and middleware systems engineer /n', 'professor assistant /n', 'internship as assistant engineer - downstream processing of fermentation media /n', 'medical device lab testing postgraduate trainee /n', 'btdm head quality medical device basel unit /n', 'laboratory head molecular oncology /n', 'manufacturing associate/technician /n', 'sub-project manager /n', 'consultant engineering /n', 'microbiologic and analytical laboratory worker /n', 'internship in hospital /n', 'lead validation engineer /n', 'pharmaceutical engineer & project engineering coordinator /n', 'analytical developer /n', 'quality control assistant of raw materials /n', 'chemical analyst /n', 'flavours engineering & maintenance supervisor /n']\n"
     ]
    }
   ],
   "source": [
    "print(getjobtitlename(list(ClusterIndicesNumpy(14, kmeans.labels_))))"
   ]
  },
  {
   "cell_type": "code",
   "execution_count": 48,
   "metadata": {},
   "outputs": [],
   "source": [
    "kmeans = KMeans(n_clusters=10).fit(TfIdfSkilllist.T)"
   ]
  },
  {
   "cell_type": "code",
   "execution_count": 49,
   "metadata": {},
   "outputs": [
    {
     "name": "stdout",
     "output_type": "stream",
     "text": [
      "['project manager / service delivery /n']\n"
     ]
    }
   ],
   "source": [
    "print(getjobtitlename(list(ClusterIndicesNumpy(4, kmeans.labels_))))"
   ]
  },
  {
   "cell_type": "markdown",
   "metadata": {},
   "source": [
    "# Select the data from the filtered data in order to use it for future model processing"
   ]
  },
  {
   "cell_type": "code",
   "execution_count": 50,
   "metadata": {},
   "outputs": [],
   "source": [
    "# to do \n",
    "\n",
    "#dict_distros_dict = dict((k, v) for k, v in distros_dict.items() if len(v) >= 3)\n",
    "#filtered_SkillDict= getSkillFromDict(distros_dict)\n",
    "# identofy the Clusters within the skill set"
   ]
  },
  {
   "cell_type": "markdown",
   "metadata": {},
   "source": [
    "# Modelling"
   ]
  },
  {
   "cell_type": "markdown",
   "metadata": {},
   "source": [
    "### Svd based model"
   ]
  },
  {
   "cell_type": "code",
   "execution_count": 51,
   "metadata": {},
   "outputs": [
    {
     "data": {
      "text/html": [
       "<div>\n",
       "<style scoped>\n",
       "    .dataframe tbody tr th:only-of-type {\n",
       "        vertical-align: middle;\n",
       "    }\n",
       "\n",
       "    .dataframe tbody tr th {\n",
       "        vertical-align: top;\n",
       "    }\n",
       "\n",
       "    .dataframe thead th {\n",
       "        text-align: right;\n",
       "    }\n",
       "</style>\n",
       "<table border=\"1\" class=\"dataframe\">\n",
       "  <thead>\n",
       "    <tr style=\"text-align: right;\">\n",
       "      <th></th>\n",
       "      <th>kitchen</th>\n",
       "      <th>chef</th>\n",
       "      <th>project</th>\n",
       "      <th>manufacture</th>\n",
       "      <th>software</th>\n",
       "      <th>simulink</th>\n",
       "      <th>matlab</th>\n",
       "      <th>software test engineer</th>\n",
       "      <th>support</th>\n",
       "      <th>base</th>\n",
       "      <th>...</th>\n",
       "      <th>epilepsy</th>\n",
       "      <th>ziekenhuizen</th>\n",
       "      <th>verkoop</th>\n",
       "      <th>ricerca</th>\n",
       "      <th>ericsson oss</th>\n",
       "      <th>bilingual spanish</th>\n",
       "      <th>biodiversity</th>\n",
       "      <th>rtl design</th>\n",
       "      <th>plataforma</th>\n",
       "      <th>pruebas</th>\n",
       "    </tr>\n",
       "    <tr>\n",
       "      <th>index</th>\n",
       "      <th></th>\n",
       "      <th></th>\n",
       "      <th></th>\n",
       "      <th></th>\n",
       "      <th></th>\n",
       "      <th></th>\n",
       "      <th></th>\n",
       "      <th></th>\n",
       "      <th></th>\n",
       "      <th></th>\n",
       "      <th></th>\n",
       "      <th></th>\n",
       "      <th></th>\n",
       "      <th></th>\n",
       "      <th></th>\n",
       "      <th></th>\n",
       "      <th></th>\n",
       "      <th></th>\n",
       "      <th></th>\n",
       "      <th></th>\n",
       "      <th></th>\n",
       "    </tr>\n",
       "  </thead>\n",
       "  <tbody>\n",
       "    <tr>\n",
       "      <th>! manager business integration</th>\n",
       "      <td>NaN</td>\n",
       "      <td>NaN</td>\n",
       "      <td>NaN</td>\n",
       "      <td>NaN</td>\n",
       "      <td>NaN</td>\n",
       "      <td>NaN</td>\n",
       "      <td>NaN</td>\n",
       "      <td>NaN</td>\n",
       "      <td>1.0</td>\n",
       "      <td>NaN</td>\n",
       "      <td>...</td>\n",
       "      <td>NaN</td>\n",
       "      <td>NaN</td>\n",
       "      <td>NaN</td>\n",
       "      <td>NaN</td>\n",
       "      <td>NaN</td>\n",
       "      <td>NaN</td>\n",
       "      <td>NaN</td>\n",
       "      <td>NaN</td>\n",
       "      <td>NaN</td>\n",
       "      <td>NaN</td>\n",
       "    </tr>\n",
       "    <tr>\n",
       "      <th>\" department / assistant of the department manager</th>\n",
       "      <td>NaN</td>\n",
       "      <td>NaN</td>\n",
       "      <td>1.0</td>\n",
       "      <td>NaN</td>\n",
       "      <td>NaN</td>\n",
       "      <td>NaN</td>\n",
       "      <td>NaN</td>\n",
       "      <td>NaN</td>\n",
       "      <td>NaN</td>\n",
       "      <td>NaN</td>\n",
       "      <td>...</td>\n",
       "      <td>NaN</td>\n",
       "      <td>NaN</td>\n",
       "      <td>NaN</td>\n",
       "      <td>NaN</td>\n",
       "      <td>NaN</td>\n",
       "      <td>NaN</td>\n",
       "      <td>NaN</td>\n",
       "      <td>NaN</td>\n",
       "      <td>NaN</td>\n",
       "      <td>NaN</td>\n",
       "    </tr>\n",
       "    <tr>\n",
       "      <th>\" mep qa/qc electrical inspector</th>\n",
       "      <td>NaN</td>\n",
       "      <td>NaN</td>\n",
       "      <td>1.0</td>\n",
       "      <td>NaN</td>\n",
       "      <td>NaN</td>\n",
       "      <td>NaN</td>\n",
       "      <td>NaN</td>\n",
       "      <td>NaN</td>\n",
       "      <td>NaN</td>\n",
       "      <td>NaN</td>\n",
       "      <td>...</td>\n",
       "      <td>NaN</td>\n",
       "      <td>NaN</td>\n",
       "      <td>NaN</td>\n",
       "      <td>NaN</td>\n",
       "      <td>NaN</td>\n",
       "      <td>NaN</td>\n",
       "      <td>NaN</td>\n",
       "      <td>NaN</td>\n",
       "      <td>NaN</td>\n",
       "      <td>NaN</td>\n",
       "    </tr>\n",
       "    <tr>\n",
       "      <th>\"account manager (i.t)</th>\n",
       "      <td>NaN</td>\n",
       "      <td>NaN</td>\n",
       "      <td>1.0</td>\n",
       "      <td>NaN</td>\n",
       "      <td>NaN</td>\n",
       "      <td>NaN</td>\n",
       "      <td>NaN</td>\n",
       "      <td>NaN</td>\n",
       "      <td>NaN</td>\n",
       "      <td>NaN</td>\n",
       "      <td>...</td>\n",
       "      <td>NaN</td>\n",
       "      <td>NaN</td>\n",
       "      <td>NaN</td>\n",
       "      <td>NaN</td>\n",
       "      <td>NaN</td>\n",
       "      <td>NaN</td>\n",
       "      <td>NaN</td>\n",
       "      <td>NaN</td>\n",
       "      <td>NaN</td>\n",
       "      <td>NaN</td>\n",
       "    </tr>\n",
       "    <tr>\n",
       "      <th>\"accounts executive</th>\n",
       "      <td>NaN</td>\n",
       "      <td>NaN</td>\n",
       "      <td>NaN</td>\n",
       "      <td>NaN</td>\n",
       "      <td>NaN</td>\n",
       "      <td>NaN</td>\n",
       "      <td>NaN</td>\n",
       "      <td>NaN</td>\n",
       "      <td>NaN</td>\n",
       "      <td>NaN</td>\n",
       "      <td>...</td>\n",
       "      <td>NaN</td>\n",
       "      <td>NaN</td>\n",
       "      <td>NaN</td>\n",
       "      <td>NaN</td>\n",
       "      <td>NaN</td>\n",
       "      <td>NaN</td>\n",
       "      <td>NaN</td>\n",
       "      <td>NaN</td>\n",
       "      <td>NaN</td>\n",
       "      <td>NaN</td>\n",
       "    </tr>\n",
       "  </tbody>\n",
       "</table>\n",
       "<p>5 rows × 2170 columns</p>\n",
       "</div>"
      ],
      "text/plain": [
       "                                                    kitchen  chef  project  \\\n",
       "index                                                                        \n",
       "! manager business integration                          NaN   NaN      NaN   \n",
       "\" department / assistant of the department manager      NaN   NaN      1.0   \n",
       "\" mep qa/qc electrical inspector                        NaN   NaN      1.0   \n",
       "\"account manager (i.t)                                  NaN   NaN      1.0   \n",
       "\"accounts executive                                     NaN   NaN      NaN   \n",
       "\n",
       "                                                    manufacture  software  \\\n",
       "index                                                                       \n",
       "! manager business integration                              NaN       NaN   \n",
       "\" department / assistant of the department manager          NaN       NaN   \n",
       "\" mep qa/qc electrical inspector                            NaN       NaN   \n",
       "\"account manager (i.t)                                      NaN       NaN   \n",
       "\"accounts executive                                         NaN       NaN   \n",
       "\n",
       "                                                    simulink  matlab  \\\n",
       "index                                                                  \n",
       "! manager business integration                           NaN     NaN   \n",
       "\" department / assistant of the department manager       NaN     NaN   \n",
       "\" mep qa/qc electrical inspector                         NaN     NaN   \n",
       "\"account manager (i.t)                                   NaN     NaN   \n",
       "\"accounts executive                                      NaN     NaN   \n",
       "\n",
       "                                                    software test engineer  \\\n",
       "index                                                                        \n",
       "! manager business integration                                         NaN   \n",
       "\" department / assistant of the department manager                     NaN   \n",
       "\" mep qa/qc electrical inspector                                       NaN   \n",
       "\"account manager (i.t)                                                 NaN   \n",
       "\"accounts executive                                                    NaN   \n",
       "\n",
       "                                                    support  base   ...     \\\n",
       "index                                                               ...      \n",
       "! manager business integration                          1.0   NaN   ...      \n",
       "\" department / assistant of the department manager      NaN   NaN   ...      \n",
       "\" mep qa/qc electrical inspector                        NaN   NaN   ...      \n",
       "\"account manager (i.t)                                  NaN   NaN   ...      \n",
       "\"accounts executive                                     NaN   NaN   ...      \n",
       "\n",
       "                                                    epilepsy  ziekenhuizen  \\\n",
       "index                                                                        \n",
       "! manager business integration                           NaN           NaN   \n",
       "\" department / assistant of the department manager       NaN           NaN   \n",
       "\" mep qa/qc electrical inspector                         NaN           NaN   \n",
       "\"account manager (i.t)                                   NaN           NaN   \n",
       "\"accounts executive                                      NaN           NaN   \n",
       "\n",
       "                                                    verkoop  ricerca  \\\n",
       "index                                                                  \n",
       "! manager business integration                          NaN      NaN   \n",
       "\" department / assistant of the department manager      NaN      NaN   \n",
       "\" mep qa/qc electrical inspector                        NaN      NaN   \n",
       "\"account manager (i.t)                                  NaN      NaN   \n",
       "\"accounts executive                                     NaN      NaN   \n",
       "\n",
       "                                                    ericsson oss  \\\n",
       "index                                                              \n",
       "! manager business integration                               NaN   \n",
       "\" department / assistant of the department manager           NaN   \n",
       "\" mep qa/qc electrical inspector                             NaN   \n",
       "\"account manager (i.t)                                       NaN   \n",
       "\"accounts executive                                          NaN   \n",
       "\n",
       "                                                    bilingual spanish  \\\n",
       "index                                                                   \n",
       "! manager business integration                                    NaN   \n",
       "\" department / assistant of the department manager                NaN   \n",
       "\" mep qa/qc electrical inspector                                  NaN   \n",
       "\"account manager (i.t)                                            NaN   \n",
       "\"accounts executive                                               NaN   \n",
       "\n",
       "                                                    biodiversity  rtl design  \\\n",
       "index                                                                          \n",
       "! manager business integration                               NaN         NaN   \n",
       "\" department / assistant of the department manager           NaN         NaN   \n",
       "\" mep qa/qc electrical inspector                             NaN         NaN   \n",
       "\"account manager (i.t)                                       NaN         NaN   \n",
       "\"accounts executive                                          NaN         NaN   \n",
       "\n",
       "                                                    plataforma  pruebas  \n",
       "index                                                                    \n",
       "! manager business integration                             NaN      NaN  \n",
       "\" department / assistant of the department manager         NaN      NaN  \n",
       "\" mep qa/qc electrical inspector                           NaN      NaN  \n",
       "\"account manager (i.t)                                     NaN      NaN  \n",
       "\"accounts executive                                        NaN      NaN  \n",
       "\n",
       "[5 rows x 2170 columns]"
      ]
     },
     "execution_count": 51,
     "metadata": {},
     "output_type": "execute_result"
    }
   ],
   "source": [
    "train = pd.DataFrame.from_dict(distros_dict, orient='index')\n",
    "train.reset_index(level=0, inplace=True)\n",
    "train = train.set_index('index')\n",
    "train.head()"
   ]
  },
  {
   "cell_type": "code",
   "execution_count": 52,
   "metadata": {
    "scrolled": true
   },
   "outputs": [
    {
     "data": {
      "text/html": [
       "<div>\n",
       "<style scoped>\n",
       "    .dataframe tbody tr th:only-of-type {\n",
       "        vertical-align: middle;\n",
       "    }\n",
       "\n",
       "    .dataframe tbody tr th {\n",
       "        vertical-align: top;\n",
       "    }\n",
       "\n",
       "    .dataframe thead th {\n",
       "        text-align: right;\n",
       "    }\n",
       "</style>\n",
       "<table border=\"1\" class=\"dataframe\">\n",
       "  <thead>\n",
       "    <tr style=\"text-align: right;\">\n",
       "      <th></th>\n",
       "      <th>kitchen</th>\n",
       "      <th>chef</th>\n",
       "      <th>project</th>\n",
       "      <th>manufacture</th>\n",
       "      <th>software</th>\n",
       "      <th>simulink</th>\n",
       "      <th>matlab</th>\n",
       "      <th>software test engineer</th>\n",
       "      <th>support</th>\n",
       "      <th>base</th>\n",
       "      <th>...</th>\n",
       "      <th>epilepsy</th>\n",
       "      <th>ziekenhuizen</th>\n",
       "      <th>verkoop</th>\n",
       "      <th>ricerca</th>\n",
       "      <th>ericsson oss</th>\n",
       "      <th>bilingual spanish</th>\n",
       "      <th>biodiversity</th>\n",
       "      <th>rtl design</th>\n",
       "      <th>plataforma</th>\n",
       "      <th>pruebas</th>\n",
       "    </tr>\n",
       "    <tr>\n",
       "      <th>index</th>\n",
       "      <th></th>\n",
       "      <th></th>\n",
       "      <th></th>\n",
       "      <th></th>\n",
       "      <th></th>\n",
       "      <th></th>\n",
       "      <th></th>\n",
       "      <th></th>\n",
       "      <th></th>\n",
       "      <th></th>\n",
       "      <th></th>\n",
       "      <th></th>\n",
       "      <th></th>\n",
       "      <th></th>\n",
       "      <th></th>\n",
       "      <th></th>\n",
       "      <th></th>\n",
       "      <th></th>\n",
       "      <th></th>\n",
       "      <th></th>\n",
       "      <th></th>\n",
       "    </tr>\n",
       "  </thead>\n",
       "  <tbody>\n",
       "    <tr>\n",
       "      <th>! manager business integration</th>\n",
       "      <td>0.0</td>\n",
       "      <td>0.0</td>\n",
       "      <td>0.0</td>\n",
       "      <td>0.0</td>\n",
       "      <td>0.0</td>\n",
       "      <td>0.0</td>\n",
       "      <td>0.0</td>\n",
       "      <td>0.0</td>\n",
       "      <td>1.0</td>\n",
       "      <td>0.0</td>\n",
       "      <td>...</td>\n",
       "      <td>0.0</td>\n",
       "      <td>0.0</td>\n",
       "      <td>0.0</td>\n",
       "      <td>0.0</td>\n",
       "      <td>0.0</td>\n",
       "      <td>0.0</td>\n",
       "      <td>0.0</td>\n",
       "      <td>0.0</td>\n",
       "      <td>0.0</td>\n",
       "      <td>0.0</td>\n",
       "    </tr>\n",
       "    <tr>\n",
       "      <th>\" department / assistant of the department manager</th>\n",
       "      <td>0.0</td>\n",
       "      <td>0.0</td>\n",
       "      <td>1.0</td>\n",
       "      <td>0.0</td>\n",
       "      <td>0.0</td>\n",
       "      <td>0.0</td>\n",
       "      <td>0.0</td>\n",
       "      <td>0.0</td>\n",
       "      <td>0.0</td>\n",
       "      <td>0.0</td>\n",
       "      <td>...</td>\n",
       "      <td>0.0</td>\n",
       "      <td>0.0</td>\n",
       "      <td>0.0</td>\n",
       "      <td>0.0</td>\n",
       "      <td>0.0</td>\n",
       "      <td>0.0</td>\n",
       "      <td>0.0</td>\n",
       "      <td>0.0</td>\n",
       "      <td>0.0</td>\n",
       "      <td>0.0</td>\n",
       "    </tr>\n",
       "    <tr>\n",
       "      <th>\" mep qa/qc electrical inspector</th>\n",
       "      <td>0.0</td>\n",
       "      <td>0.0</td>\n",
       "      <td>1.0</td>\n",
       "      <td>0.0</td>\n",
       "      <td>0.0</td>\n",
       "      <td>0.0</td>\n",
       "      <td>0.0</td>\n",
       "      <td>0.0</td>\n",
       "      <td>0.0</td>\n",
       "      <td>0.0</td>\n",
       "      <td>...</td>\n",
       "      <td>0.0</td>\n",
       "      <td>0.0</td>\n",
       "      <td>0.0</td>\n",
       "      <td>0.0</td>\n",
       "      <td>0.0</td>\n",
       "      <td>0.0</td>\n",
       "      <td>0.0</td>\n",
       "      <td>0.0</td>\n",
       "      <td>0.0</td>\n",
       "      <td>0.0</td>\n",
       "    </tr>\n",
       "    <tr>\n",
       "      <th>\"account manager (i.t)</th>\n",
       "      <td>0.0</td>\n",
       "      <td>0.0</td>\n",
       "      <td>1.0</td>\n",
       "      <td>0.0</td>\n",
       "      <td>0.0</td>\n",
       "      <td>0.0</td>\n",
       "      <td>0.0</td>\n",
       "      <td>0.0</td>\n",
       "      <td>0.0</td>\n",
       "      <td>0.0</td>\n",
       "      <td>...</td>\n",
       "      <td>0.0</td>\n",
       "      <td>0.0</td>\n",
       "      <td>0.0</td>\n",
       "      <td>0.0</td>\n",
       "      <td>0.0</td>\n",
       "      <td>0.0</td>\n",
       "      <td>0.0</td>\n",
       "      <td>0.0</td>\n",
       "      <td>0.0</td>\n",
       "      <td>0.0</td>\n",
       "    </tr>\n",
       "    <tr>\n",
       "      <th>\"accounts executive</th>\n",
       "      <td>0.0</td>\n",
       "      <td>0.0</td>\n",
       "      <td>0.0</td>\n",
       "      <td>0.0</td>\n",
       "      <td>0.0</td>\n",
       "      <td>0.0</td>\n",
       "      <td>0.0</td>\n",
       "      <td>0.0</td>\n",
       "      <td>0.0</td>\n",
       "      <td>0.0</td>\n",
       "      <td>...</td>\n",
       "      <td>0.0</td>\n",
       "      <td>0.0</td>\n",
       "      <td>0.0</td>\n",
       "      <td>0.0</td>\n",
       "      <td>0.0</td>\n",
       "      <td>0.0</td>\n",
       "      <td>0.0</td>\n",
       "      <td>0.0</td>\n",
       "      <td>0.0</td>\n",
       "      <td>0.0</td>\n",
       "    </tr>\n",
       "  </tbody>\n",
       "</table>\n",
       "<p>5 rows × 2170 columns</p>\n",
       "</div>"
      ],
      "text/plain": [
       "                                                    kitchen  chef  project  \\\n",
       "index                                                                        \n",
       "! manager business integration                          0.0   0.0      0.0   \n",
       "\" department / assistant of the department manager      0.0   0.0      1.0   \n",
       "\" mep qa/qc electrical inspector                        0.0   0.0      1.0   \n",
       "\"account manager (i.t)                                  0.0   0.0      1.0   \n",
       "\"accounts executive                                     0.0   0.0      0.0   \n",
       "\n",
       "                                                    manufacture  software  \\\n",
       "index                                                                       \n",
       "! manager business integration                              0.0       0.0   \n",
       "\" department / assistant of the department manager          0.0       0.0   \n",
       "\" mep qa/qc electrical inspector                            0.0       0.0   \n",
       "\"account manager (i.t)                                      0.0       0.0   \n",
       "\"accounts executive                                         0.0       0.0   \n",
       "\n",
       "                                                    simulink  matlab  \\\n",
       "index                                                                  \n",
       "! manager business integration                           0.0     0.0   \n",
       "\" department / assistant of the department manager       0.0     0.0   \n",
       "\" mep qa/qc electrical inspector                         0.0     0.0   \n",
       "\"account manager (i.t)                                   0.0     0.0   \n",
       "\"accounts executive                                      0.0     0.0   \n",
       "\n",
       "                                                    software test engineer  \\\n",
       "index                                                                        \n",
       "! manager business integration                                         0.0   \n",
       "\" department / assistant of the department manager                     0.0   \n",
       "\" mep qa/qc electrical inspector                                       0.0   \n",
       "\"account manager (i.t)                                                 0.0   \n",
       "\"accounts executive                                                    0.0   \n",
       "\n",
       "                                                    support  base   ...     \\\n",
       "index                                                               ...      \n",
       "! manager business integration                          1.0   0.0   ...      \n",
       "\" department / assistant of the department manager      0.0   0.0   ...      \n",
       "\" mep qa/qc electrical inspector                        0.0   0.0   ...      \n",
       "\"account manager (i.t)                                  0.0   0.0   ...      \n",
       "\"accounts executive                                     0.0   0.0   ...      \n",
       "\n",
       "                                                    epilepsy  ziekenhuizen  \\\n",
       "index                                                                        \n",
       "! manager business integration                           0.0           0.0   \n",
       "\" department / assistant of the department manager       0.0           0.0   \n",
       "\" mep qa/qc electrical inspector                         0.0           0.0   \n",
       "\"account manager (i.t)                                   0.0           0.0   \n",
       "\"accounts executive                                      0.0           0.0   \n",
       "\n",
       "                                                    verkoop  ricerca  \\\n",
       "index                                                                  \n",
       "! manager business integration                          0.0      0.0   \n",
       "\" department / assistant of the department manager      0.0      0.0   \n",
       "\" mep qa/qc electrical inspector                        0.0      0.0   \n",
       "\"account manager (i.t)                                  0.0      0.0   \n",
       "\"accounts executive                                     0.0      0.0   \n",
       "\n",
       "                                                    ericsson oss  \\\n",
       "index                                                              \n",
       "! manager business integration                               0.0   \n",
       "\" department / assistant of the department manager           0.0   \n",
       "\" mep qa/qc electrical inspector                             0.0   \n",
       "\"account manager (i.t)                                       0.0   \n",
       "\"accounts executive                                          0.0   \n",
       "\n",
       "                                                    bilingual spanish  \\\n",
       "index                                                                   \n",
       "! manager business integration                                    0.0   \n",
       "\" department / assistant of the department manager                0.0   \n",
       "\" mep qa/qc electrical inspector                                  0.0   \n",
       "\"account manager (i.t)                                            0.0   \n",
       "\"accounts executive                                               0.0   \n",
       "\n",
       "                                                    biodiversity  rtl design  \\\n",
       "index                                                                          \n",
       "! manager business integration                               0.0         0.0   \n",
       "\" department / assistant of the department manager           0.0         0.0   \n",
       "\" mep qa/qc electrical inspector                             0.0         0.0   \n",
       "\"account manager (i.t)                                       0.0         0.0   \n",
       "\"accounts executive                                          0.0         0.0   \n",
       "\n",
       "                                                    plataforma  pruebas  \n",
       "index                                                                    \n",
       "! manager business integration                             0.0      0.0  \n",
       "\" department / assistant of the department manager         0.0      0.0  \n",
       "\" mep qa/qc electrical inspector                           0.0      0.0  \n",
       "\"account manager (i.t)                                     0.0      0.0  \n",
       "\"accounts executive                                        0.0      0.0  \n",
       "\n",
       "[5 rows x 2170 columns]"
      ]
     },
     "execution_count": 52,
     "metadata": {},
     "output_type": "execute_result"
    }
   ],
   "source": [
    "user_util_matrix = train.copy()\n",
    "\n",
    "# We will fill the row wise NaN's with the corresponding user's mean ratings, so that we can carry out Pearson correlation.\n",
    "# Here we assume avg ratings for the movie that is not rated.\n",
    "user_util_matrix = user_util_matrix.apply(lambda row: row.fillna(0), axis=1)\n",
    "user_util_matrix.head(5)"
   ]
  },
  {
   "cell_type": "code",
   "execution_count": 53,
   "metadata": {},
   "outputs": [],
   "source": [
    "from surprise import Reader, Dataset, SVD, NMF\n",
    "from surprise.model_selection import GridSearchCV, cross_validate"
   ]
  },
  {
   "cell_type": "code",
   "execution_count": 54,
   "metadata": {},
   "outputs": [
    {
     "name": "stdout",
     "output_type": "stream",
     "text": [
      "Evaluating RMSE, MAE of algorithm SVD on 5 split(s).\n",
      "\n",
      "                  Fold 1  Fold 2  Fold 3  Fold 4  Fold 5  Mean    Std     \n",
      "RMSE (testset)    1.7722  1.4878  1.8482  1.4186  1.5442  1.6142  0.1667  \n",
      "MAE (testset)     0.3789  0.3790  0.3682  0.3572  0.3857  0.3738  0.0100  \n",
      "Fit time          5.24    5.18    5.16    5.25    5.16    5.20    0.04    \n",
      "Test time         0.26    0.24    0.23    0.37    0.24    0.27    0.05    \n"
     ]
    },
    {
     "data": {
      "text/plain": [
       "{'test_rmse': array([1.77223306, 1.48776689, 1.84816599, 1.41856546, 1.54424919]),\n",
       " 'test_mae': array([0.37894706, 0.37902174, 0.36820943, 0.35724002, 0.38570481]),\n",
       " 'fit_time': (5.236937046051025,\n",
       "  5.179843425750732,\n",
       "  5.15745735168457,\n",
       "  5.252963304519653,\n",
       "  5.162055015563965),\n",
       " 'test_time': (0.255967378616333,\n",
       "  0.23610663414001465,\n",
       "  0.23409485816955566,\n",
       "  0.3710629940032959,\n",
       "  0.24323606491088867)}"
      ]
     },
     "execution_count": 54,
     "metadata": {},
     "output_type": "execute_result"
    }
   ],
   "source": [
    "reader = Reader(rating_scale=(0.5, 5.0))\n",
    "\n",
    "data = Dataset.load_from_df( df_TitleSkilllist[['jobtitle_id', 'skill_id', 'count']], reader = reader )\n",
    "# Use the famous SVD algorithm\n",
    "algo = SVD()\n",
    "\n",
    "# Run 5-fold cross-validation and then print results\n",
    "cross_validate(algo, data, measures=['RMSE', 'MAE'], cv=5, verbose=True)"
   ]
  },
  {
   "cell_type": "code",
   "execution_count": 55,
   "metadata": {},
   "outputs": [
    {
     "name": "stdout",
     "output_type": "stream",
     "text": [
      "\n",
      "###############\n",
      "Best Score : 4.151825269004096\n",
      "Best Parameters : {'n_factors': 50, 'lr_all': 0.5, 'reg_all': 0.06}\n",
      "###############\n"
     ]
    }
   ],
   "source": [
    "param_grid = {'n_factors' : [50, 75], 'lr_all' : [0.5, 0.05], 'reg_all' : [0.06, 0.04]}\n",
    "\n",
    "gs = GridSearchCV(algo_class=SVD, measures=['RMSE'], param_grid=param_grid)\n",
    "gs.fit(data)\n",
    "\n",
    "print('\\n###############')\n",
    "# Best RMSE score\n",
    "print('Best Score :', gs.best_score['rmse'])\n",
    "\n",
    "# Combination of parameters that gave the best RMSE score\n",
    "print('Best Parameters :', gs.best_params['rmse'])\n",
    "print('###############')"
   ]
  },
  {
   "cell_type": "markdown",
   "metadata": {},
   "source": [
    "### Matrix recomendation based modelling"
   ]
  },
  {
   "cell_type": "code",
   "execution_count": 56,
   "metadata": {},
   "outputs": [
    {
     "name": "stderr",
     "output_type": "stream",
     "text": [
      "Using TensorFlow backend.\n",
      "/home/rudresh/anaconda3/lib/python3.7/site-packages/tensorflow/python/framework/dtypes.py:526: FutureWarning: Passing (type, 1) or '1type' as a synonym of type is deprecated; in a future version of numpy, it will be understood as (type, (1,)) / '(1,)type'.\n",
      "  _np_qint8 = np.dtype([(\"qint8\", np.int8, 1)])\n",
      "/home/rudresh/anaconda3/lib/python3.7/site-packages/tensorflow/python/framework/dtypes.py:527: FutureWarning: Passing (type, 1) or '1type' as a synonym of type is deprecated; in a future version of numpy, it will be understood as (type, (1,)) / '(1,)type'.\n",
      "  _np_quint8 = np.dtype([(\"quint8\", np.uint8, 1)])\n",
      "/home/rudresh/anaconda3/lib/python3.7/site-packages/tensorflow/python/framework/dtypes.py:528: FutureWarning: Passing (type, 1) or '1type' as a synonym of type is deprecated; in a future version of numpy, it will be understood as (type, (1,)) / '(1,)type'.\n",
      "  _np_qint16 = np.dtype([(\"qint16\", np.int16, 1)])\n",
      "/home/rudresh/anaconda3/lib/python3.7/site-packages/tensorflow/python/framework/dtypes.py:529: FutureWarning: Passing (type, 1) or '1type' as a synonym of type is deprecated; in a future version of numpy, it will be understood as (type, (1,)) / '(1,)type'.\n",
      "  _np_quint16 = np.dtype([(\"quint16\", np.uint16, 1)])\n",
      "/home/rudresh/anaconda3/lib/python3.7/site-packages/tensorflow/python/framework/dtypes.py:530: FutureWarning: Passing (type, 1) or '1type' as a synonym of type is deprecated; in a future version of numpy, it will be understood as (type, (1,)) / '(1,)type'.\n",
      "  _np_qint32 = np.dtype([(\"qint32\", np.int32, 1)])\n",
      "/home/rudresh/anaconda3/lib/python3.7/site-packages/tensorflow/python/framework/dtypes.py:535: FutureWarning: Passing (type, 1) or '1type' as a synonym of type is deprecated; in a future version of numpy, it will be understood as (type, (1,)) / '(1,)type'.\n",
      "  np_resource = np.dtype([(\"resource\", np.ubyte, 1)])\n"
     ]
    }
   ],
   "source": [
    "from keras.layers import Embedding, Input, dot, concatenate\n",
    "from keras.models import Model\n",
    "from IPython.display import SVG\n",
    "from keras.utils.vis_utils import model_to_dot\n",
    "\n",
    "# Deep Learning Libraries\n",
    "from keras.models import Sequential, load_model\n",
    "from keras.layers import Dense, Dropout, Flatten\n",
    "from keras.layers import Conv2D, MaxPooling2D, BatchNormalization\n",
    "from keras.optimizers import Adam,SGD,Adagrad,Adadelta,RMSprop\n",
    "from keras.preprocessing.image import ImageDataGenerator\n",
    "from keras.callbacks import ReduceLROnPlateau, LearningRateScheduler\n",
    "from keras.utils import to_categorical\n",
    "\n",
    "from sklearn.model_selection import train_test_split"
   ]
  },
  {
   "cell_type": "code",
   "execution_count": 72,
   "metadata": {},
   "outputs": [],
   "source": [
    "# The number of latent factors for the embedding\n",
    "n_latent_factors = 50\n",
    "\n",
    "# no of users and movies\n",
    "\n",
    "n_title, n_skill = len(df_TitleSkilllist['jobtitle_id'].unique()), len(df_TitleSkilllist['skill_id'].unique()) "
   ]
  },
  {
   "cell_type": "code",
   "execution_count": 73,
   "metadata": {},
   "outputs": [],
   "source": [
    "# Model Architecture\n",
    "\n",
    "\n",
    "# jobtitle Embeddings\n",
    "title_input = Input(shape=(1,), name='title_Input')\n",
    "title_embeddings = Embedding(input_dim = n_title, output_dim=n_latent_factors, input_length=1, \n",
    "                              name='title_Embedding') (title_input)\n",
    "title_vector = Flatten(name='title_Vector') (title_embeddings)\n",
    "\n",
    "\n",
    "# skill Embeddings\n",
    "skill_input = Input(shape=(1,), name='skill_Input')\n",
    "skill_embeddings = Embedding(input_dim = n_skill, output_dim=n_latent_factors, input_length=1, \n",
    "                               name='skill_Embedding') (skill_input)\n",
    "skill_vector = Flatten(name='skill_Vector') (skill_embeddings)\n",
    "\n",
    "\n",
    "# Dot Product\n",
    "merged_vectors = dot([title_vector, skill_vector], name='Dot_Product', axes=1)\n",
    "model = Model([title_input, skill_input], merged_vectors)"
   ]
  },
  {
   "cell_type": "code",
   "execution_count": 74,
   "metadata": {},
   "outputs": [
    {
     "data": {
      "image/svg+xml": [
       "<svg height=\"304pt\" viewBox=\"0.00 0.00 674.00 304.00\" width=\"674pt\" xmlns=\"http://www.w3.org/2000/svg\" xmlns:xlink=\"http://www.w3.org/1999/xlink\">\n",
       "<g class=\"graph\" id=\"graph0\" transform=\"scale(1 1) rotate(0) translate(4 300)\">\n",
       "<title>G</title>\n",
       "<polygon fill=\"#ffffff\" points=\"-4,4 -4,-300 670,-300 670,4 -4,4\" stroke=\"transparent\"/>\n",
       "<!-- 140310488998184 -->\n",
       "<g class=\"node\" id=\"node1\">\n",
       "<title>140310488998184</title>\n",
       "<polygon fill=\"none\" points=\"29.5,-249.5 29.5,-295.5 293.5,-295.5 293.5,-249.5 29.5,-249.5\" stroke=\"#000000\"/>\n",
       "<text fill=\"#000000\" font-family=\"Times,serif\" font-size=\"14.00\" text-anchor=\"middle\" x=\"99.5\" y=\"-268.8\">title_Input: InputLayer</text>\n",
       "<polyline fill=\"none\" points=\"169.5,-249.5 169.5,-295.5 \" stroke=\"#000000\"/>\n",
       "<text fill=\"#000000\" font-family=\"Times,serif\" font-size=\"14.00\" text-anchor=\"middle\" x=\"197\" y=\"-280.3\">input:</text>\n",
       "<polyline fill=\"none\" points=\"169.5,-272.5 224.5,-272.5 \" stroke=\"#000000\"/>\n",
       "<text fill=\"#000000\" font-family=\"Times,serif\" font-size=\"14.00\" text-anchor=\"middle\" x=\"197\" y=\"-257.3\">output:</text>\n",
       "<polyline fill=\"none\" points=\"224.5,-249.5 224.5,-295.5 \" stroke=\"#000000\"/>\n",
       "<text fill=\"#000000\" font-family=\"Times,serif\" font-size=\"14.00\" text-anchor=\"middle\" x=\"259\" y=\"-280.3\">(None, 1)</text>\n",
       "<polyline fill=\"none\" points=\"224.5,-272.5 293.5,-272.5 \" stroke=\"#000000\"/>\n",
       "<text fill=\"#000000\" font-family=\"Times,serif\" font-size=\"14.00\" text-anchor=\"middle\" x=\"259\" y=\"-257.3\">(None, 1)</text>\n",
       "</g>\n",
       "<!-- 140311200538072 -->\n",
       "<g class=\"node\" id=\"node3\">\n",
       "<title>140311200538072</title>\n",
       "<polygon fill=\"none\" points=\"0,-166.5 0,-212.5 323,-212.5 323,-166.5 0,-166.5\" stroke=\"#000000\"/>\n",
       "<text fill=\"#000000\" font-family=\"Times,serif\" font-size=\"14.00\" text-anchor=\"middle\" x=\"89\" y=\"-185.8\">title_Embedding: Embedding</text>\n",
       "<polyline fill=\"none\" points=\"178,-166.5 178,-212.5 \" stroke=\"#000000\"/>\n",
       "<text fill=\"#000000\" font-family=\"Times,serif\" font-size=\"14.00\" text-anchor=\"middle\" x=\"205.5\" y=\"-197.3\">input:</text>\n",
       "<polyline fill=\"none\" points=\"178,-189.5 233,-189.5 \" stroke=\"#000000\"/>\n",
       "<text fill=\"#000000\" font-family=\"Times,serif\" font-size=\"14.00\" text-anchor=\"middle\" x=\"205.5\" y=\"-174.3\">output:</text>\n",
       "<polyline fill=\"none\" points=\"233,-166.5 233,-212.5 \" stroke=\"#000000\"/>\n",
       "<text fill=\"#000000\" font-family=\"Times,serif\" font-size=\"14.00\" text-anchor=\"middle\" x=\"278\" y=\"-197.3\">(None, 1)</text>\n",
       "<polyline fill=\"none\" points=\"233,-189.5 323,-189.5 \" stroke=\"#000000\"/>\n",
       "<text fill=\"#000000\" font-family=\"Times,serif\" font-size=\"14.00\" text-anchor=\"middle\" x=\"278\" y=\"-174.3\">(None, 1, 50)</text>\n",
       "</g>\n",
       "<!-- 140310488998184&#45;&gt;140311200538072 -->\n",
       "<g class=\"edge\" id=\"edge1\">\n",
       "<title>140310488998184-&gt;140311200538072</title>\n",
       "<path d=\"M161.5,-249.3799C161.5,-241.1745 161.5,-231.7679 161.5,-222.8786\" fill=\"none\" stroke=\"#000000\"/>\n",
       "<polygon fill=\"#000000\" points=\"165.0001,-222.784 161.5,-212.784 158.0001,-222.784 165.0001,-222.784\" stroke=\"#000000\"/>\n",
       "</g>\n",
       "<!-- 140310488998128 -->\n",
       "<g class=\"node\" id=\"node2\">\n",
       "<title>140310488998128</title>\n",
       "<polygon fill=\"none\" points=\"370,-249.5 370,-295.5 637,-295.5 637,-249.5 370,-249.5\" stroke=\"#000000\"/>\n",
       "<text fill=\"#000000\" font-family=\"Times,serif\" font-size=\"14.00\" text-anchor=\"middle\" x=\"441.5\" y=\"-268.8\">skill_Input: InputLayer</text>\n",
       "<polyline fill=\"none\" points=\"513,-249.5 513,-295.5 \" stroke=\"#000000\"/>\n",
       "<text fill=\"#000000\" font-family=\"Times,serif\" font-size=\"14.00\" text-anchor=\"middle\" x=\"540.5\" y=\"-280.3\">input:</text>\n",
       "<polyline fill=\"none\" points=\"513,-272.5 568,-272.5 \" stroke=\"#000000\"/>\n",
       "<text fill=\"#000000\" font-family=\"Times,serif\" font-size=\"14.00\" text-anchor=\"middle\" x=\"540.5\" y=\"-257.3\">output:</text>\n",
       "<polyline fill=\"none\" points=\"568,-249.5 568,-295.5 \" stroke=\"#000000\"/>\n",
       "<text fill=\"#000000\" font-family=\"Times,serif\" font-size=\"14.00\" text-anchor=\"middle\" x=\"602.5\" y=\"-280.3\">(None, 1)</text>\n",
       "<polyline fill=\"none\" points=\"568,-272.5 637,-272.5 \" stroke=\"#000000\"/>\n",
       "<text fill=\"#000000\" font-family=\"Times,serif\" font-size=\"14.00\" text-anchor=\"middle\" x=\"602.5\" y=\"-257.3\">(None, 1)</text>\n",
       "</g>\n",
       "<!-- 140310486709136 -->\n",
       "<g class=\"node\" id=\"node4\">\n",
       "<title>140310486709136</title>\n",
       "<polygon fill=\"none\" points=\"341,-166.5 341,-212.5 666,-212.5 666,-166.5 341,-166.5\" stroke=\"#000000\"/>\n",
       "<text fill=\"#000000\" font-family=\"Times,serif\" font-size=\"14.00\" text-anchor=\"middle\" x=\"431\" y=\"-185.8\">skill_Embedding: Embedding</text>\n",
       "<polyline fill=\"none\" points=\"521,-166.5 521,-212.5 \" stroke=\"#000000\"/>\n",
       "<text fill=\"#000000\" font-family=\"Times,serif\" font-size=\"14.00\" text-anchor=\"middle\" x=\"548.5\" y=\"-197.3\">input:</text>\n",
       "<polyline fill=\"none\" points=\"521,-189.5 576,-189.5 \" stroke=\"#000000\"/>\n",
       "<text fill=\"#000000\" font-family=\"Times,serif\" font-size=\"14.00\" text-anchor=\"middle\" x=\"548.5\" y=\"-174.3\">output:</text>\n",
       "<polyline fill=\"none\" points=\"576,-166.5 576,-212.5 \" stroke=\"#000000\"/>\n",
       "<text fill=\"#000000\" font-family=\"Times,serif\" font-size=\"14.00\" text-anchor=\"middle\" x=\"621\" y=\"-197.3\">(None, 1)</text>\n",
       "<polyline fill=\"none\" points=\"576,-189.5 666,-189.5 \" stroke=\"#000000\"/>\n",
       "<text fill=\"#000000\" font-family=\"Times,serif\" font-size=\"14.00\" text-anchor=\"middle\" x=\"621\" y=\"-174.3\">(None, 1, 50)</text>\n",
       "</g>\n",
       "<!-- 140310488998128&#45;&gt;140310486709136 -->\n",
       "<g class=\"edge\" id=\"edge2\">\n",
       "<title>140310488998128-&gt;140310486709136</title>\n",
       "<path d=\"M503.5,-249.3799C503.5,-241.1745 503.5,-231.7679 503.5,-222.8786\" fill=\"none\" stroke=\"#000000\"/>\n",
       "<polygon fill=\"#000000\" points=\"507.0001,-222.784 503.5,-212.784 500.0001,-222.784 507.0001,-222.784\" stroke=\"#000000\"/>\n",
       "</g>\n",
       "<!-- 140310486709472 -->\n",
       "<g class=\"node\" id=\"node5\">\n",
       "<title>140310486709472</title>\n",
       "<polygon fill=\"none\" points=\"52,-83.5 52,-129.5 323,-129.5 323,-83.5 52,-83.5\" stroke=\"#000000\"/>\n",
       "<text fill=\"#000000\" font-family=\"Times,serif\" font-size=\"14.00\" text-anchor=\"middle\" x=\"115\" y=\"-102.8\">title_Vector: Flatten</text>\n",
       "<polyline fill=\"none\" points=\"178,-83.5 178,-129.5 \" stroke=\"#000000\"/>\n",
       "<text fill=\"#000000\" font-family=\"Times,serif\" font-size=\"14.00\" text-anchor=\"middle\" x=\"205.5\" y=\"-114.3\">input:</text>\n",
       "<polyline fill=\"none\" points=\"178,-106.5 233,-106.5 \" stroke=\"#000000\"/>\n",
       "<text fill=\"#000000\" font-family=\"Times,serif\" font-size=\"14.00\" text-anchor=\"middle\" x=\"205.5\" y=\"-91.3\">output:</text>\n",
       "<polyline fill=\"none\" points=\"233,-83.5 233,-129.5 \" stroke=\"#000000\"/>\n",
       "<text fill=\"#000000\" font-family=\"Times,serif\" font-size=\"14.00\" text-anchor=\"middle\" x=\"278\" y=\"-114.3\">(None, 1, 50)</text>\n",
       "<polyline fill=\"none\" points=\"233,-106.5 323,-106.5 \" stroke=\"#000000\"/>\n",
       "<text fill=\"#000000\" font-family=\"Times,serif\" font-size=\"14.00\" text-anchor=\"middle\" x=\"278\" y=\"-91.3\">(None, 50)</text>\n",
       "</g>\n",
       "<!-- 140311200538072&#45;&gt;140310486709472 -->\n",
       "<g class=\"edge\" id=\"edge3\">\n",
       "<title>140311200538072-&gt;140310486709472</title>\n",
       "<path d=\"M168.7424,-166.3799C171.3407,-158.0854 174.3236,-148.5633 177.1348,-139.5889\" fill=\"none\" stroke=\"#000000\"/>\n",
       "<polygon fill=\"#000000\" points=\"180.5568,-140.373 180.2062,-129.784 173.8769,-138.2805 180.5568,-140.373\" stroke=\"#000000\"/>\n",
       "</g>\n",
       "<!-- 140310486709584 -->\n",
       "<g class=\"node\" id=\"node6\">\n",
       "<title>140310486709584</title>\n",
       "<polygon fill=\"none\" points=\"354,-83.5 354,-129.5 627,-129.5 627,-83.5 354,-83.5\" stroke=\"#000000\"/>\n",
       "<text fill=\"#000000\" font-family=\"Times,serif\" font-size=\"14.00\" text-anchor=\"middle\" x=\"418\" y=\"-102.8\">skill_Vector: Flatten</text>\n",
       "<polyline fill=\"none\" points=\"482,-83.5 482,-129.5 \" stroke=\"#000000\"/>\n",
       "<text fill=\"#000000\" font-family=\"Times,serif\" font-size=\"14.00\" text-anchor=\"middle\" x=\"509.5\" y=\"-114.3\">input:</text>\n",
       "<polyline fill=\"none\" points=\"482,-106.5 537,-106.5 \" stroke=\"#000000\"/>\n",
       "<text fill=\"#000000\" font-family=\"Times,serif\" font-size=\"14.00\" text-anchor=\"middle\" x=\"509.5\" y=\"-91.3\">output:</text>\n",
       "<polyline fill=\"none\" points=\"537,-83.5 537,-129.5 \" stroke=\"#000000\"/>\n",
       "<text fill=\"#000000\" font-family=\"Times,serif\" font-size=\"14.00\" text-anchor=\"middle\" x=\"582\" y=\"-114.3\">(None, 1, 50)</text>\n",
       "<polyline fill=\"none\" points=\"537,-106.5 627,-106.5 \" stroke=\"#000000\"/>\n",
       "<text fill=\"#000000\" font-family=\"Times,serif\" font-size=\"14.00\" text-anchor=\"middle\" x=\"582\" y=\"-91.3\">(None, 50)</text>\n",
       "</g>\n",
       "<!-- 140310486709136&#45;&gt;140310486709584 -->\n",
       "<g class=\"edge\" id=\"edge4\">\n",
       "<title>140310486709136-&gt;140310486709584</title>\n",
       "<path d=\"M499.8788,-166.3799C498.5936,-158.1745 497.1203,-148.7679 495.728,-139.8786\" fill=\"none\" stroke=\"#000000\"/>\n",
       "<polygon fill=\"#000000\" points=\"499.1522,-139.1219 494.1469,-129.784 492.2365,-140.2052 499.1522,-139.1219\" stroke=\"#000000\"/>\n",
       "</g>\n",
       "<!-- 140310486709808 -->\n",
       "<g class=\"node\" id=\"node7\">\n",
       "<title>140310486709808</title>\n",
       "<polygon fill=\"none\" points=\"172.5,-.5 172.5,-46.5 492.5,-46.5 492.5,-.5 172.5,-.5\" stroke=\"#000000\"/>\n",
       "<text fill=\"#000000\" font-family=\"Times,serif\" font-size=\"14.00\" text-anchor=\"middle\" x=\"229\" y=\"-19.8\">Dot_Product: Dot</text>\n",
       "<polyline fill=\"none\" points=\"285.5,-.5 285.5,-46.5 \" stroke=\"#000000\"/>\n",
       "<text fill=\"#000000\" font-family=\"Times,serif\" font-size=\"14.00\" text-anchor=\"middle\" x=\"313\" y=\"-31.3\">input:</text>\n",
       "<polyline fill=\"none\" points=\"285.5,-23.5 340.5,-23.5 \" stroke=\"#000000\"/>\n",
       "<text fill=\"#000000\" font-family=\"Times,serif\" font-size=\"14.00\" text-anchor=\"middle\" x=\"313\" y=\"-8.3\">output:</text>\n",
       "<polyline fill=\"none\" points=\"340.5,-.5 340.5,-46.5 \" stroke=\"#000000\"/>\n",
       "<text fill=\"#000000\" font-family=\"Times,serif\" font-size=\"14.00\" text-anchor=\"middle\" x=\"416.5\" y=\"-31.3\">[(None, 50), (None, 50)]</text>\n",
       "<polyline fill=\"none\" points=\"340.5,-23.5 492.5,-23.5 \" stroke=\"#000000\"/>\n",
       "<text fill=\"#000000\" font-family=\"Times,serif\" font-size=\"14.00\" text-anchor=\"middle\" x=\"416.5\" y=\"-8.3\">(None, 1)</text>\n",
       "</g>\n",
       "<!-- 140310486709472&#45;&gt;140310486709808 -->\n",
       "<g class=\"edge\" id=\"edge5\">\n",
       "<title>140310486709472-&gt;140310486709808</title>\n",
       "<path d=\"M227.8906,-83.3799C244.9453,-73.6175 264.9708,-62.1546 282.9104,-51.8857\" fill=\"none\" stroke=\"#000000\"/>\n",
       "<polygon fill=\"#000000\" points=\"285.1348,-54.6454 292.0748,-46.6399 281.6573,-48.5703 285.1348,-54.6454\" stroke=\"#000000\"/>\n",
       "</g>\n",
       "<!-- 140310486709584&#45;&gt;140310486709808 -->\n",
       "<g class=\"edge\" id=\"edge6\">\n",
       "<title>140310486709584-&gt;140310486709808</title>\n",
       "<path d=\"M446.4882,-83.3799C427.5634,-73.4384 405.2816,-61.7334 385.4618,-51.3217\" fill=\"none\" stroke=\"#000000\"/>\n",
       "<polygon fill=\"#000000\" points=\"387.0301,-48.192 376.5495,-46.6399 383.7747,-54.389 387.0301,-48.192\" stroke=\"#000000\"/>\n",
       "</g>\n",
       "</g>\n",
       "</svg>"
      ],
      "text/plain": [
       "<IPython.core.display.SVG object>"
      ]
     },
     "execution_count": 74,
     "metadata": {},
     "output_type": "execute_result"
    }
   ],
   "source": [
    "SVG(model_to_dot( model,  show_shapes=True, show_layer_names=True).create(prog='dot', format='svg'))"
   ]
  },
  {
   "cell_type": "code",
   "execution_count": 75,
   "metadata": {},
   "outputs": [
    {
     "name": "stdout",
     "output_type": "stream",
     "text": [
      "__________________________________________________________________________________________________\n",
      "Layer (type)                    Output Shape         Param #     Connected to                     \n",
      "==================================================================================================\n",
      "title_Input (InputLayer)        (None, 1)            0                                            \n",
      "__________________________________________________________________________________________________\n",
      "skill_Input (InputLayer)        (None, 1)            0                                            \n",
      "__________________________________________________________________________________________________\n",
      "title_Embedding (Embedding)     (None, 1, 50)        480400      title_Input[0][0]                \n",
      "__________________________________________________________________________________________________\n",
      "skill_Embedding (Embedding)     (None, 1, 50)        108350      skill_Input[0][0]                \n",
      "__________________________________________________________________________________________________\n",
      "title_Vector (Flatten)          (None, 50)           0           title_Embedding[0][0]            \n",
      "__________________________________________________________________________________________________\n",
      "skill_Vector (Flatten)          (None, 50)           0           skill_Embedding[0][0]            \n",
      "__________________________________________________________________________________________________\n",
      "Dot_Product (Dot)               (None, 1)            0           title_Vector[0][0]               \n",
      "                                                                 skill_Vector[0][0]               \n",
      "==================================================================================================\n",
      "Total params: 588,750\n",
      "Trainable params: 588,750\n",
      "Non-trainable params: 0\n",
      "__________________________________________________________________________________________________\n"
     ]
    }
   ],
   "source": [
    "model.summary()"
   ]
  },
  {
   "cell_type": "code",
   "execution_count": 76,
   "metadata": {},
   "outputs": [],
   "source": [
    "X = df_TitleSkilllist.iloc[:,:2]\n",
    "Y = df_TitleSkilllist.iloc[:,2]"
   ]
  },
  {
   "cell_type": "code",
   "execution_count": 62,
   "metadata": {},
   "outputs": [],
   "source": [
    "x_train, x_test, y_train, y_test = train_test_split(X, Y, test_size = 0.2, random_state = 66)"
   ]
  },
  {
   "cell_type": "code",
   "execution_count": 63,
   "metadata": {},
   "outputs": [
    {
     "data": {
      "text/html": [
       "<div>\n",
       "<style scoped>\n",
       "    .dataframe tbody tr th:only-of-type {\n",
       "        vertical-align: middle;\n",
       "    }\n",
       "\n",
       "    .dataframe tbody tr th {\n",
       "        vertical-align: top;\n",
       "    }\n",
       "\n",
       "    .dataframe thead th {\n",
       "        text-align: right;\n",
       "    }\n",
       "</style>\n",
       "<table border=\"1\" class=\"dataframe\">\n",
       "  <thead>\n",
       "    <tr style=\"text-align: right;\">\n",
       "      <th></th>\n",
       "      <th>jobtitle_id</th>\n",
       "      <th>skill_id</th>\n",
       "    </tr>\n",
       "  </thead>\n",
       "  <tbody>\n",
       "    <tr>\n",
       "      <th>20705</th>\n",
       "      <td>940</td>\n",
       "      <td>1756</td>\n",
       "    </tr>\n",
       "    <tr>\n",
       "      <th>35430</th>\n",
       "      <td>2183</td>\n",
       "      <td>1392</td>\n",
       "    </tr>\n",
       "    <tr>\n",
       "      <th>99644</th>\n",
       "      <td>9112</td>\n",
       "      <td>988</td>\n",
       "    </tr>\n",
       "    <tr>\n",
       "      <th>47353</th>\n",
       "      <td>3312</td>\n",
       "      <td>1190</td>\n",
       "    </tr>\n",
       "    <tr>\n",
       "      <th>32767</th>\n",
       "      <td>1957</td>\n",
       "      <td>1823</td>\n",
       "    </tr>\n",
       "  </tbody>\n",
       "</table>\n",
       "</div>"
      ],
      "text/plain": [
       "       jobtitle_id  skill_id\n",
       "20705          940      1756\n",
       "35430         2183      1392\n",
       "99644         9112       988\n",
       "47353         3312      1190\n",
       "32767         1957      1823"
      ]
     },
     "execution_count": 63,
     "metadata": {},
     "output_type": "execute_result"
    }
   ],
   "source": [
    "x_test.head()"
   ]
  },
  {
   "cell_type": "code",
   "execution_count": 64,
   "metadata": {},
   "outputs": [],
   "source": [
    "optimizer = Adam(lr = 0.0005)\n",
    "\n",
    "model.compile(loss='mean_squared_error', optimizer = optimizer)"
   ]
  },
  {
   "cell_type": "code",
   "execution_count": 65,
   "metadata": {},
   "outputs": [],
   "source": [
    "batch_size = 128\n",
    "epochs = 50"
   ]
  },
  {
   "cell_type": "code",
   "execution_count": 66,
   "metadata": {},
   "outputs": [
    {
     "name": "stdout",
     "output_type": "stream",
     "text": [
      "WARNING:tensorflow:From /home/rudresh/anaconda3/lib/python3.7/site-packages/tensorflow/python/ops/math_ops.py:3066: to_int32 (from tensorflow.python.ops.math_ops) is deprecated and will be removed in a future version.\n",
      "Instructions for updating:\n",
      "Use tf.cast instead.\n",
      "Train on 83276 samples, validate on 20819 samples\n",
      "Epoch 1/50\n",
      " - 6s - loss: 3.8544 - val_loss: 7.4046\n",
      "Epoch 2/50\n",
      " - 6s - loss: 3.4960 - val_loss: 6.5448\n",
      "Epoch 3/50\n",
      " - 6s - loss: 2.5628 - val_loss: 5.7776\n",
      "Epoch 4/50\n",
      " - 6s - loss: 2.1838 - val_loss: 5.5376\n",
      "Epoch 5/50\n",
      " - 5s - loss: 2.0412 - val_loss: 5.4137\n",
      "Epoch 6/50\n",
      " - 5s - loss: 1.9567 - val_loss: 5.3306\n",
      "Epoch 7/50\n",
      " - 6s - loss: 1.8936 - val_loss: 5.2684\n",
      "Epoch 8/50\n",
      " - 6s - loss: 1.8393 - val_loss: 5.2070\n",
      "Epoch 9/50\n",
      " - 6s - loss: 1.7873 - val_loss: 5.1532\n",
      "Epoch 10/50\n",
      " - 6s - loss: 1.7375 - val_loss: 5.1005\n",
      "Epoch 11/50\n",
      " - 5s - loss: 1.6887 - val_loss: 5.0481\n",
      "Epoch 12/50\n",
      " - 5s - loss: 1.6391 - val_loss: 4.9952\n",
      "Epoch 13/50\n",
      " - 6s - loss: 1.5923 - val_loss: 4.9423\n",
      "Epoch 14/50\n",
      " - 6s - loss: 1.5467 - val_loss: 4.8905\n",
      "Epoch 15/50\n",
      " - 6s - loss: 1.5036 - val_loss: 4.8404\n",
      "Epoch 16/50\n",
      " - 6s - loss: 1.4614 - val_loss: 4.7930\n",
      "Epoch 17/50\n",
      " - 6s - loss: 1.4224 - val_loss: 4.7480\n",
      "Epoch 18/50\n",
      " - 6s - loss: 1.3856 - val_loss: 4.7074\n",
      "Epoch 19/50\n",
      " - 5s - loss: 1.3499 - val_loss: 4.6664\n",
      "Epoch 20/50\n",
      " - 5s - loss: 1.3162 - val_loss: 4.6254\n",
      "Epoch 21/50\n",
      " - 6s - loss: 1.2843 - val_loss: 4.5895\n",
      "Epoch 22/50\n",
      " - 6s - loss: 1.2533 - val_loss: 4.5535\n",
      "Epoch 23/50\n",
      " - 6s - loss: 1.2239 - val_loss: 4.5217\n",
      "Epoch 24/50\n",
      " - 6s - loss: 1.1955 - val_loss: 4.4867\n",
      "Epoch 25/50\n",
      " - 7s - loss: 1.1681 - val_loss: 4.4561\n",
      "Epoch 26/50\n",
      " - 7s - loss: 1.1422 - val_loss: 4.4309\n",
      "Epoch 27/50\n",
      " - 7s - loss: 1.1169 - val_loss: 4.4016\n",
      "Epoch 28/50\n",
      " - 7s - loss: 1.0924 - val_loss: 4.3766\n",
      "Epoch 29/50\n",
      " - 6s - loss: 1.0686 - val_loss: 4.3465\n",
      "Epoch 30/50\n",
      " - 5s - loss: 1.0452 - val_loss: 4.3243\n",
      "Epoch 31/50\n",
      " - 5s - loss: 1.0228 - val_loss: 4.3035\n",
      "Epoch 32/50\n",
      " - 6s - loss: 1.0012 - val_loss: 4.2824\n",
      "Epoch 33/50\n",
      " - 5s - loss: 0.9797 - val_loss: 4.2638\n",
      "Epoch 34/50\n",
      " - 5s - loss: 0.9591 - val_loss: 4.2459\n",
      "Epoch 35/50\n",
      " - 4s - loss: 0.9393 - val_loss: 4.2281\n",
      "Epoch 36/50\n",
      " - 4s - loss: 0.9192 - val_loss: 4.2089\n",
      "Epoch 37/50\n",
      " - 4s - loss: 0.9002 - val_loss: 4.1913\n",
      "Epoch 38/50\n",
      " - 4s - loss: 0.8812 - val_loss: 4.1764\n",
      "Epoch 39/50\n",
      " - 4s - loss: 0.8629 - val_loss: 4.1637\n",
      "Epoch 40/50\n",
      " - 4s - loss: 0.8451 - val_loss: 4.1506\n",
      "Epoch 41/50\n",
      " - 5s - loss: 0.8281 - val_loss: 4.1377\n",
      "Epoch 42/50\n",
      " - 5s - loss: 0.8116 - val_loss: 4.1309\n",
      "Epoch 43/50\n",
      " - 4s - loss: 0.7952 - val_loss: 4.1193\n",
      "Epoch 44/50\n",
      " - 5s - loss: 0.7792 - val_loss: 4.1075\n",
      "Epoch 45/50\n",
      " - 5s - loss: 0.7631 - val_loss: 4.0989\n",
      "Epoch 46/50\n",
      " - 5s - loss: 0.7483 - val_loss: 4.0971\n",
      "Epoch 47/50\n",
      " - 5s - loss: 0.7324 - val_loss: 4.0867\n",
      "Epoch 48/50\n",
      " - 5s - loss: 0.7182 - val_loss: 4.0824\n",
      "Epoch 49/50\n",
      " - 4s - loss: 0.7037 - val_loss: 4.0796\n",
      "Epoch 50/50\n",
      " - 4s - loss: 0.6904 - val_loss: 4.0724\n"
     ]
    }
   ],
   "source": [
    "history = model.fit(x=[x_train['jobtitle_id'], x_train['skill_id']], y=y_train, batch_size= batch_size, epochs=epochs, \n",
    "                    verbose= 2, validation_data=([x_test['jobtitle_id'], x_test['skill_id']], y_test))"
   ]
  },
  {
   "cell_type": "code",
   "execution_count": 67,
   "metadata": {},
   "outputs": [
    {
     "data": {
      "image/png": "[encoded data removed]",
      "text/plain": [
       "<Figure size 576x288 with 1 Axes>"
      ]
     },
     "metadata": {},
     "output_type": "display_data"
    }
   ],
   "source": [
    "# Get training and test loss histories\n",
    "training_loss = history.history['loss']\n",
    "test_loss = history.history['val_loss']\n",
    "\n",
    "# Create count of the number of epochs\n",
    "epoch_count = range(1, len(training_loss) + 1)\n",
    "\n",
    "# Visualize loss history\n",
    "plt.figure(figsize = (8,4))\n",
    "plt.plot(epoch_count, training_loss, 'r--')\n",
    "plt.plot(epoch_count, test_loss, 'b-')\n",
    "plt.legend(['Training Loss', 'Test Loss'])\n",
    "plt.xlabel('Epoch')\n",
    "plt.ylabel('Loss')\n",
    "plt.show()"
   ]
  },
  {
   "cell_type": "code",
   "execution_count": 68,
   "metadata": {},
   "outputs": [
    {
     "name": "stdout",
     "output_type": "stream",
     "text": [
      "20819/20819 [==============================] - 0s 15us/step\n",
      "\n",
      "RMSE: 2.0180\n"
     ]
    }
   ],
   "source": [
    "score = model.evaluate([x_test['jobtitle_id'], x_test['skill_id']], y_test)\n",
    "print()\n",
    "print('RMSE: {:.4f}'.format(np.sqrt(score)))"
   ]
  },
  {
   "cell_type": "code",
   "execution_count": 69,
   "metadata": {},
   "outputs": [],
   "source": [
    "# Recommendation system"
   ]
  },
  {
   "cell_type": "code",
   "execution_count": 70,
   "metadata": {},
   "outputs": [
    {
     "data": {
      "text/plain": [
       "array([[1.2895508]], dtype=float32)"
      ]
     },
     "execution_count": 70,
     "metadata": {},
     "output_type": "execute_result"
    }
   ],
   "source": [
    "model.predict([x_test['jobtitle_id'][:1], x_test['skill_id'][3:4]])"
   ]
  }
 ],
 "metadata": {
  "kernelspec": {
   "display_name": "Python 3",
   "language": "python",
   "name": "python3"
  },
  "language_info": {
   "codemirror_mode": {
    "name": "ipython",
    "version": 3
   },
   "file_extension": ".py",
   "mimetype": "text/x-python",
   "name": "python",
   "nbconvert_exporter": "python",
   "pygments_lexer": "ipython3",
   "version": "3.6.9"
  }
 },
 "nbformat": 4,
 "nbformat_minor": 4
}
