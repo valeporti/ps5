{
 "cells": [
  {
   "cell_type": "code",
   "execution_count": 1,
   "metadata": {},
   "outputs": [],
   "source": [
    "import networkx as nx\n",
    "import matplotlib.pyplot as plt\n",
    "import numpy as np\n",
    "import json\n",
    "from graph_treat import *"
   ]
  },
  {
   "cell_type": "code",
   "execution_count": 2,
   "metadata": {},
   "outputs": [],
   "source": [
    "G = nx.DiGraph()"
   ]
  },
  {
   "cell_type": "code",
   "execution_count": 3,
   "metadata": {},
   "outputs": [],
   "source": [
    "# Create Main Nodes of culture\n",
    "G.add_nodes_from( [ 'culture', 'values', 'power_distance', 'indiv_collec', 'masc_fem', 'uncertainty_avoidance', 'long_term_or', 'indulgence_restraint' ] )\n",
    "G.add_edges_from( [ ('values', 'culture') ] )\n",
    "G.add_edges_from( [ (sub, 'values') for sub in [ 'power_distance', 'indiv_collec', 'masc_fem', 'uncertainty_avoidance', 'long_term_or', 'indulgence_restraint' ]] )"
   ]
  },
  {
   "cell_type": "markdown",
   "metadata": {},
   "source": [
    "> Organize \"Antoym  nodes\" for each concept:"
   ]
  },
  {
   "cell_type": "code",
   "execution_count": 4,
   "metadata": {},
   "outputs": [],
   "source": [
    "# Power Distance\n",
    "G.add_edges_from( [ (sub, 'power_distance') for sub in [ 'small_power_distance', 'large_power_distance']])\n",
    "# Indivuadlism and Collectivism\n",
    "G.add_edges_from( [ (sub, 'indiv_collec') for sub in [ 'collectivist_culture', 'indivualist_culture']])\n",
    "# Feminine and Masculine cultures\n",
    "G.add_edges_from( [ (sub, 'masc_fem') for sub in [ 'feminine_culture', 'masculine_culture']])\n",
    "# Uncertainty avoidance\n",
    "G.add_edges_from( [ (sub, 'uncertainty_avoidance') for sub in [ 'weak_uncertainty_avoidance', 'strong_uncertainty_avoidance' ]])\n",
    "# Long-Term Orientation\n",
    "G.add_edges_from( [ (sub, 'long_term_or') for sub in [ 'long_term_orientation', 'short_term_orientation' ]])\n",
    "# Indulgence versus Restraint\n",
    "G.add_edges_from( [ (sub, 'indulgence_restraint') for sub in [ 'indulgence', 'restraint' ]])"
   ]
  },
  {
   "cell_type": "markdown",
   "metadata": {},
   "source": [
    "> <span style=\"color: tomato;\">Power Distance</span> **nodes**"
   ]
  },
  {
   "cell_type": "code",
   "execution_count": 5,
   "metadata": {},
   "outputs": [],
   "source": [
    "# Antonym Nodes of power distance\n",
    "main_power_dist = ['small_pd', 'large_pd']\n",
    "centralized = [ 'decentralized_pd', 'centralized_pd' ]\n",
    "management = [ 'experience_based_pd', 'rule_based_pd' ]\n",
    "member_type = [ 'proactive_pd', 'order_needed_pd' ]\n",
    "subordinate_superior = [ 'pragmatic_rel_pd', 'emotional_rel_pd' ]\n",
    "privileges = [ 'no_privileges_pd', 'privileges_pd' ]\n",
    "\n",
    "# insert pointing to power distance\n",
    "power_distance_antonyms = [ main_power_dist , centralized, management, member_type, subordinate_superior, privileges ]\n",
    "G.add_edges_from( [ (sub[0], 'small_power_distance') for sub in power_distance_antonyms ])\n",
    "G.add_edges_from( [ (sub[1], 'large_power_distance') for sub in power_distance_antonyms ])\n",
    "#power_distance_antonyms = centralized + management + member_type + subordinate_superior + privileges\n",
    "#G.add_edges_from( [ (sub, 'power_distance') for sub in power_distance_antonyms ])"
   ]
  },
  {
   "cell_type": "markdown",
   "metadata": {},
   "source": [
    "> <span style=\"color: tomato;\">Power Distance</span> **terms** from research"
   ]
  },
  {
   "cell_type": "code",
   "execution_count": 6,
   "metadata": {},
   "outputs": [],
   "source": [
    "# main \n",
    "ter_main_small = ['small', 'power', 'distance']\n",
    "def_main_small = 'Small power distance'\n",
    "ter_main_large = ['large', 'power', 'distance']\n",
    "def_main_large = 'Large power distance'\n",
    "\n",
    "#addAntonymInfo(G, main_power_dist, (ter_main_small, ter_main_large) )\n",
    "#addAntonymAttribute(G, 'description', main_power_dist, (def_main_small, def_main_large))\n",
    "\n",
    "# centralized\n",
    "# https://bizfluent.com/about-6561176-vertical-horizontal-organizational-structure.html\n",
    "# https://www.project-management-skills.com/organizational-structure-types.html\n",
    "_repetitive = ['structure', 'organization', 'organizational']\n",
    "ter_cen = [ 'boss', 'slow', 'decision-making', 'bureaucracy', 'promotion', 'hierarchy',\n",
    "            'functional', 'centralized', 'vertical',\n",
    "           ] + _repetitive\n",
    "def_cen = 'Centralization is popular'\n",
    "ter_dec = [ 'disperse', 'leader', 'organization', 'structure', 'small',\n",
    "            'horizontal', 'organic', 'simple'\n",
    "          ] + _repetitive\n",
    "def_dec = 'Decentralization is popular'\n",
    "ter_mix = [ 'hybrid', 'mixed', 'matrix'\n",
    "          ] + _repetitive\n",
    "\n",
    "addAntonymInfo(G, centralized, (set(ter_dec), set(ter_cen)) )\n",
    "addAntonymAttribute(G, 'description', centralized, (def_dec, def_cen))\n",
    "\n",
    "# management\n",
    "# https://www.managementstudyguide.com/management-style.htm\n",
    "ter_man_experience_based = [ 'know-how', 'action', 'contact', 'involvement', 'participation', 'maturity', 'experience', 'democratic', \n",
    "    'laissez-faire', 'based'\n",
    "    ]\n",
    "def_man_experience_based = 'Managers rely on their own experience'\n",
    "ter_man_rule_based = [ 'guideline', 'manual', 'decree', 'order', 'regulation', 'norm', 'rule', 'boss', \n",
    "    'paternalistic', 'autocratic', 'based'\n",
    "    ]\n",
    "def_man_rule_based = 'Managers rely on formal rules'\n",
    "\n",
    "addAntonymInfo(G, management, (ter_man_experience_based, ter_man_rule_based) )\n",
    "addAntonymAttribute(G, 'description', management, (def_man_experience_based, def_man_rule_based))\n",
    "\n",
    "# member type\n",
    "ter_mem_proactive = [ 'proactive', 'propose', 'enthusiastic', 'energetic', 'spirited', 'passionate' ]\n",
    "ter_mem_order_needy = [ 'retroactive', 'reactive', 'careless', 'stative', 'shortsighted', 'needy' ]\n",
    "def_mem_proactive = 'Subordinates expect to be consulted'\n",
    "def_mem_order_needy = 'Subordinates expect to be told what to do'\n",
    "\n",
    "addAntonymInfo(G, member_type, (ter_mem_proactive, ter_mem_order_needy) )\n",
    "addAntonymAttribute(G, 'description', member_type, (def_mem_proactive, def_mem_order_needy))\n",
    "\n",
    "# Subordinate - superior relationship type\n",
    "# /!\\ not to include maybe, issue: terms need of context because they could refer tho other things\n",
    "ter_rel_pragmatic = [ 'pragmatic', 'practical', 'logical', 'efficient', 'realistic', \n",
    "    'feedback', 'relationship'\n",
    "    ] \n",
    "ter_rel_emotional = [ 'affecting', 'exciting', 'passionate', 'sentimental', 'critics', \n",
    "    'relationship', 'emotional'\n",
    "    ]\n",
    "def_rel_pragmatic = 'Subordinate-superior relations are pragmatic'\n",
    "def_rel_emotional = 'Subordinate-superior relations are emotional'\n",
    "addAntonymInfo(G, subordinate_superior, (ter_rel_pragmatic, ter_rel_emotional) )\n",
    "addAntonymAttribute(G, 'description', subordinate_superior, (def_rel_pragmatic, def_rel_emotional))\n",
    "\n",
    "# TODO: \n",
    "# /!\\ Privileges missing, terms to discribe could be missleading"
   ]
  },
  {
   "cell_type": "markdown",
   "metadata": {},
   "source": [
    "> <span style=\"color: tomato;\">Power Distance</span> **terms** added because of presence in CVs (concatenate)"
   ]
  },
  {
   "cell_type": "code",
   "execution_count": 7,
   "metadata": {},
   "outputs": [],
   "source": [
    "# TODO_ \n"
   ]
  },
  {
   "cell_type": "markdown",
   "metadata": {},
   "source": [
    "> <span style=\"color: tomato;\">Individualism and Collectivism</span> **nodes**"
   ]
  },
  {
   "cell_type": "code",
   "execution_count": 8,
   "metadata": {},
   "outputs": [],
   "source": [
    "main_coll_ind = ['collectivism_ic', 'individualism_ic']\n",
    "interests = [ 'group_int_pur_ic', 'employer_int_pur_ic' ]\n",
    "promotions = [ 'group_prom_based_ic', 'skills_performance_prom_based_ic']\n",
    "employee_relationship = [ 'moral_rel_ic', 'contractual_rel_ic' ]\n",
    "communication = [ 'indirect_comm_ic', 'personal_comm_ic' ]\n",
    "\n",
    "# insert\n",
    "coll_ind_antonyms = [ main_coll_ind , interests, promotions, employee_relationship, communication ]\n",
    "G.add_edges_from( [ (sub[0], 'collectivist_culture') for sub in coll_ind_antonyms ])\n",
    "G.add_edges_from( [ (sub[1], 'indivualist_culture') for sub in coll_ind_antonyms ])"
   ]
  },
  {
   "cell_type": "markdown",
   "metadata": {},
   "source": [
    "> <span style=\"color: tomato;\">Individualism and Collectivism</span> **terms** from research"
   ]
  },
  {
   "cell_type": "code",
   "execution_count": 9,
   "metadata": {},
   "outputs": [],
   "source": [
    "# main Collectivism and individualism\n",
    "ter_main_coll = ['collectivism']\n",
    "ter_main_ind = ['individualism']\n",
    "def_main_coll = 'Collectivism' \n",
    "def_main_ind = 'Individualism'\n",
    "\n",
    "#addAntonymInfo(G, main_coll_ind, (ter_main_coll, ter_main_ind) )\n",
    "#addAntonymAttribute(G, 'description', main_coll_ind, (def_main_coll, def_main_ind))\n",
    "\n",
    "# members pursue group interest\n",
    "ter_group_int_pur = [ 'interests', 'group', 'collective', 'shared', \n",
    "    'recreational', 'leisure', 'proposal', 'discuss', 'share',\n",
    "    ] \n",
    "# member pursue employer's interest\n",
    "ter_employer_int_pur = [ 'overtime', 'project', 'milestone', 'goal', 'overdue', \n",
    "    'employer', 'needs', 'interests', 'requirements', 'business'\n",
    "    ]\n",
    "def_group_int_pur = 'Employees pursue the in-group\\'s interest'\n",
    "def_employer_int_pur = 'Employees pursue the employer\\'s interest'\n",
    "\n",
    "addAntonymInfo(G, interests, (ter_group_int_pur, ter_employer_int_pur) )\n",
    "addAntonymAttribute(G, 'description', interests, (def_group_int_pur, def_employer_int_pur))\n",
    "\n",
    "# hiring-promotion decision considering in-group members\n",
    "# /!\\ needs context (ex: is it a promotion he's talking about?)\n",
    "ter_group_prom_based = [ 'census' ,'group', 'evaluation', 'growth', 'promotion', 'hiring', 'consideration' \n",
    "    ]\n",
    "# Hiring and promotion decisions are based on skills and performance\n",
    "ter_skills_performance_prom_based = [ 'skills', 'performance', 'results',\n",
    "    'promotion', 'hiring', 'consideration'\n",
    "    ]\n",
    "def_group_prom_based = 'Hiring-promotion decision considering in-group members'\n",
    "def_skills_performance_prom_based = 'Hiring and promotion decisions are based on skills and performance'\n",
    "\n",
    "addAntonymInfo(G, promotions, (ter_group_prom_based, ter_skills_performance_prom_based) )\n",
    "addAntonymAttribute(G, 'description', promotions, (def_group_prom_based, def_skills_performance_prom_based))\n",
    "\n",
    "# relationship between employees is moral\n",
    "ter_moral_rel = [ 'partner', 'respect', 'relationship', 'moral'\n",
    "    ]\n",
    "# Relationship between employees is contractual\n",
    "ter_contractual_rel = [ 'contractual', 'relationship'\n",
    "    ]\n",
    "def_moral_rel = 'The relationship between employees is basically moral'\n",
    "def_contractual_rel = 'The relationship between employees is established with a contract'\n",
    "\n",
    "addAntonymInfo(G, employee_relationship, (ter_moral_rel, ter_contractual_rel) )\n",
    "addAntonymAttribute(G, 'description', employee_relationship, (ter_moral_rel, ter_contractual_rel))\n",
    "\n",
    "# internet and mail not used frequently\n",
    "ter_indirect_comm = [ 'mail', 'reporting', 'phone', 'impersonal', 'communication',\n",
    "]\n",
    "# mail and internet strongly used to link individuals\n",
    "ter_personal_comm = [ 'face-to-face', 'reunions', 'group', 'activities', 'personal', 'communication'\n",
    "]\n",
    "def_indirect_comm = 'The internet and email are less attractive and less frequently used'\n",
    "def_personal_comm = 'The internet and email hold strong appeal and are frequently used to link individuals'\n",
    "\n",
    "addAntonymInfo(G, communication, (ter_indirect_comm, ter_personal_comm) )\n",
    "addAntonymAttribute(G, 'description', communication, (def_indirect_comm, def_personal_comm))"
   ]
  },
  {
   "cell_type": "markdown",
   "metadata": {},
   "source": [
    "> <span style=\"color: tomato;\">Individualism and Collectivism</span> **terms** from CVs"
   ]
  },
  {
   "cell_type": "code",
   "execution_count": 10,
   "metadata": {},
   "outputs": [],
   "source": [
    "# TODO"
   ]
  },
  {
   "cell_type": "markdown",
   "metadata": {},
   "source": [
    "> <span style=\"color: tomato;\">Masculinity and feminity</span> **nodes**"
   ]
  },
  {
   "cell_type": "code",
   "execution_count": 11,
   "metadata": {},
   "outputs": [],
   "source": [
    "main_fem_masc = ['femininity_mf', 'masculinity_mf']\n",
    "type_management = [ 'intuition_mgmt_mf', 'decisive_mgmt_mf' ]\n",
    "conflict_res = [ 'negotiated_res_mf', 'strongest_res_mf' ]\n",
    "reward_system = [ 'equality_rew_mf', 'equity_rew_mf' ]\n",
    "work_vision = [ 'work_to_live_mf', 'live_to_work_mf' ]\n",
    "money_vs_leisure = [ 'leisure_over_money_mf', 'money_over_leisure_mf' ]\n",
    "\n",
    "fem_mas_antonyms = [ main_fem_masc , type_management, conflict_res, reward_system, work_vision, money_vs_leisure ]\n",
    "G.add_edges_from( [ (sub[0], 'feminine_culture') for sub in fem_mas_antonyms ])\n",
    "G.add_edges_from( [ (sub[1], 'masculine_culture') for sub in fem_mas_antonyms ])"
   ]
  },
  {
   "cell_type": "markdown",
   "metadata": {},
   "source": [
    "> <span style=\"color: tomato;\">Masculinity and feminity</span> **terms** from research"
   ]
  },
  {
   "cell_type": "code",
   "execution_count": 12,
   "metadata": {},
   "outputs": [],
   "source": [
    "# main fem masc\n",
    "ter_main_fem = ['femininity']\n",
    "ter_main_mas = ['masculinity']\n",
    "def_main_fem = 'Femininity'\n",
    "def_main_mas = 'Masculinity'\n",
    "\n",
    "#addAntonymInfo(G, main_fem_masc, (ter_main_fem, ter_main_mas) )\n",
    "#addAntonymAttribute(G, 'description', main_fem_masc, (def_main_fem, def_main_mas))\n",
    "\n",
    "# Management based on intuition and concesus\n",
    "ter_intuition_mgmt = [ 'agile', 'scrum', 'intuition', 'management', 'consensus' ]\n",
    "# Management based on decisive and agressive actions\n",
    "ter_decisive_mgmt = [ 'decisive', 'management', 'agressive', 'actions', 'spontaneous' ]\n",
    "def_intuition_mgmt = 'Management based on intuition and consensus'\n",
    "def_decisive_mgmt = 'Management based on decisive and aggressive actions'\n",
    "\n",
    "addAntonymInfo(G, type_management, (ter_intuition_mgmt, ter_decisive_mgmt) )\n",
    "addAntonymAttribute(G, 'description', type_management, (def_intuition_mgmt, def_decisive_mgmt))\n",
    "\n",
    "# Resolution of conflicts by compromise and negotiation\n",
    "ter_negotiated_res = [ 'manage', 'negotiate', 'agree', 'compromise', 'negotiation', 'resolution', 'conflicts' ]\n",
    "# Resolution of conflicts by letting strongest win\n",
    "ter_strongest_res = [ 'impose', 'require', 'order', 'resolution', 'conflicts', 'strongest', 'win' ]\n",
    "def_negotiated_res = 'Resolution of conflicts by compromise and negotiation'\n",
    "def_strongest_res = 'Resolution of conflicts by letting the strongest win'\n",
    "\n",
    "addAntonymInfo(G, conflict_res, (ter_negotiated_res, ter_strongest_res) )\n",
    "addAntonymAttribute(G, 'description', conflict_res, (def_negotiated_res, def_strongest_res))\n",
    "\n",
    "# Reward system is based on equality\n",
    "ter_equality_rew = [ 'equality', 'reward' ]\n",
    "# Reward system is based on equity\n",
    "ter_equity_rew = [ 'equity' ]\n",
    "def_equality_rew = 'Reward system is based on equality'\n",
    "def_equity_rew = 'Reward system is based on equity'\n",
    "\n",
    "addAntonymInfo(G, reward_system, (ter_equality_rew, ter_equity_rew) )\n",
    "addAntonymAttribute(G, 'description', reward_system, (def_equality_rew, def_equity_rew))\n",
    "\n",
    "# people work in order to live\n",
    "ter_work_to_live = [ 'enjoy', 'hobbies', 'hobby', 'leisure', 'sport' ]\n",
    "# people live in order to work\n",
    "ter_live_to_work = [ 'hard-working', 'workaholic', 'ambitious' ]\n",
    "def_work_to_live = 'People work in order to live'\n",
    "def_live_to_work = 'People live in order to work'\n",
    "\n",
    "addAntonymInfo(G, work_vision, (ter_work_to_live, ter_live_to_work) )\n",
    "addAntonymAttribute(G, 'description', work_vision, (def_work_to_live, def_live_to_work))\n",
    "\n",
    "# more leisure time is preferred over more money\n",
    "ter_leisure_over_money = [ 'travel', 'leisure', 'relax' ] # maybe other indicators such as time of vacations?\n",
    "# more money is preferred over more leisure time\n",
    "ter_money_over_leisure = [ 'ambitious', 'money', 'workaholic' ] # maybe did he have had sevral proomtions?\n",
    "def_leisure_over_money = 'More leisure time is preferred over more money'\n",
    "def_money_over_leisure = 'More money is preferred over more leisure time'\n",
    "\n",
    "addAntonymInfo(G, money_vs_leisure, (ter_leisure_over_money, ter_money_over_leisure) )\n",
    "addAntonymAttribute(G, 'description', money_vs_leisure, (def_leisure_over_money, def_money_over_leisure))"
   ]
  },
  {
   "cell_type": "markdown",
   "metadata": {},
   "source": [
    "> <span style=\"color: tomato;\">Uncertainty Avoidance</span> **nodes**"
   ]
  },
  {
   "cell_type": "code",
   "execution_count": 13,
   "metadata": {},
   "outputs": [],
   "source": [
    "rules_logic = [ 'necessary_rules_ua', 'need_for_rules_ua' ]\n",
    "work_profile = [ 'work_on_need_ua', 'workaholic_ua' ]\n",
    "time_meaning = [ 'time_as_orientation_ua', 'time_is_money_ua' ]\n",
    "ambiguity_perception = [ 'ambiguity_tolerant_ua', 'ambiguity_intolerant_ua' ]\n",
    "approaches_tendency = [ 'common_sense_approach_ua', 'technical_approach_ua' ]\n",
    "decision_orientation = [ 'decision_process_ua', 'decision_content_ua' ]\n",
    "entrepreneurship_view = [ 'entrepreneur_freedom_ua', 'entrepreneur_framework_ua' ]\n",
    "motivation_type = [ 'achievement_motivation_ua', 'job_security_motivation_ua' ]\n",
    "\n",
    "uncertainty_antonyms = [ rules_logic , work_profile, time_meaning, ambiguity_perception, approaches_tendency, decision_orientation, entrepreneurship_view, motivation_type ]\n",
    "G.add_edges_from( [ (sub[0], 'weak_uncertainty_avoidance') for sub in uncertainty_antonyms ])\n",
    "G.add_edges_from( [ (sub[1], 'strong_uncertainty_avoidance') for sub in uncertainty_antonyms ])"
   ]
  },
  {
   "cell_type": "markdown",
   "metadata": {},
   "source": [
    "> <span style=\"color: tomato;\">Uncertainty Avoidance</span> **terms** from research"
   ]
  },
  {
   "cell_type": "code",
   "execution_count": 14,
   "metadata": {},
   "outputs": [],
   "source": [
    "# No more rules than necessary\n",
    "ter_necessary_rules = [ 'agile', 'scrum', 'freedom', 'proposal', 'minimum', 'requirement', 'creativity', 'innovation' ]\n",
    "# Emotional need for rules, even if they won't work\n",
    "ter_need_for_rules = [ 'plan', 'follow-up', 'respecting', 'PMI', 'waterfall', 'maximum', 'constraint', 'tradition', 'unsure' ]\n",
    "def_necessary_rules = 'There should be no more rules than strictly necessary'\n",
    "def_need_for_rules = 'There is an emotional need for rules, even if they will not work'\n",
    "addAntonymInfo(G, rules_logic, (ter_necessary_rules, ter_need_for_rules) )\n",
    "addAntonymAttribute(G, 'description', money_vs_leisure, (def_necessary_rules, def_need_for_rules))\n",
    "\n",
    "# Work hard only when needed\n",
    "ter_work_on_need = [ 'boost', 'faced', 'work', 'need', 'perceptive', 'engaged' ]\n",
    "# Emotional need to be busy and unner urge to work hard\n",
    "ter_workaholic = [ 'workaholic', 'hard-working', 'passionate', 'ambitious', 'competitive' ]\n",
    "def_work_on_need = 'Work hard only when needed'\n",
    "def_workaholic = 'There is an emotional need to be busy and an inner urge to work hard'\n",
    "addAntonymInfo(G, work_profile, (ter_work_on_need, ter_workaholic) )\n",
    "addAntonymAttribute(G, 'description', work_profile, (def_work_on_need, def_workaholic))\n",
    "\n",
    "# Time is a framework for orientation\n",
    "ter_time_as_orientation = [ 'agile', 'scrum', 'time', 'orientation', 'iteration' ]\n",
    "# Time is money\n",
    "ter_time_is_money = [ 'objectives', 'oriented', 'goals', 'oriented', 'time', 'money', 'schedule' ]\n",
    "def_time_as_orientation = 'Time is a framework for orientation'\n",
    "def_time_is_money = 'Time is money'\n",
    "addAntonymInfo(G, time_meaning, (ter_time_as_orientation, ter_time_is_money) )\n",
    "addAntonymAttribute(G, 'description', time_meaning, (def_time_as_orientation, def_time_is_money))\n",
    "\n",
    "# Tolerance for ambiguity and chaos\n",
    "ter_ambiguity_tolerant = [ 'ambiguity', 'tolerant', 'chaos', 'tolerance', 'embrace' ]\n",
    "# Need for precision and formalization\n",
    "ter_ambiguity_intolerant = [ 'ambiguity', 'intolerant', 'precise', 'formalities', 'documentation', 'precision', 'reject' ]\n",
    "def_ambiguity_tolerant = 'Tolerance for ambiguity and chaos'\n",
    "def_ambiguity_intolerant = 'Need for precision and formalization'\n",
    "addAntonymInfo(G, ambiguity_perception, (ter_ambiguity_tolerant, ter_ambiguity_intolerant) )\n",
    "addAntonymAttribute(G, 'description', ambiguity_perception, (def_ambiguity_tolerant, def_ambiguity_intolerant))\n",
    "\n",
    "# Belief in generalists and common sense\n",
    "ter_common_sense_approach = [ 'common-sense', 'intuition', 'experience', 'generalist', 'management' ]\n",
    "# Belief in experts and technical solutions\n",
    "ter_technical_approach = [ 'science', 'technical', 'expertise', 'specialist' ]\n",
    "def_common_sense_approach = 'Belief in generalists and common sense'\n",
    "def_technical_approach = 'Belief in experts and technical solutions'\n",
    "addAntonymInfo(G, approaches_tendency, (ter_common_sense_approach, ter_technical_approach) )\n",
    "addAntonymAttribute(G, 'description', approaches_tendency, (def_common_sense_approach, def_technical_approach))\n",
    "\n",
    "# Focus on decision process\n",
    "ter_decision_process = [ 'decision', 'process', 'focus', 'planning', 'discipline' ]\n",
    "# Focus on decision content\n",
    "ter_decision_content = [ 'achieved', 'proposal', 'decision', 'content', 'focus', 'understanding' ]\n",
    "def_decision_process = 'Focus on decision process'\n",
    "def_decision_content = 'Focus on decision content'\n",
    "addAntonymInfo(G, decision_orientation, (ter_decision_process, ter_decision_content) )\n",
    "addAntonymAttribute(G, 'description', decision_orientation, (def_decision_process, def_decision_content))\n",
    "\n",
    "# Entrepreneurs are relatively free from rules.\n",
    "ter_entrepreneur_freedom = [ 'innovation', 'creativity', 'proposal', 'entrepreneurship', 'entrepreneur', 'freedom' ]\n",
    "# Entrepreneurs are constrained by existing rules.\n",
    "ter_entrepreneur_framework = [ 'planning', 'rules', 'entrepreneurship', 'entrepreneur', 'constrained', 'limited' ]\n",
    "def_entrepreneur_freedom = 'Entrepreneurs are relatively free from rules'\n",
    "def_entrepreneur_framework = 'Entrepreneurs are constrained by existing rules'\n",
    "addAntonymInfo(G, entrepreneurship_view, (ter_entrepreneur_freedom, ter_entrepreneur_framework) )\n",
    "addAntonymAttribute(G, 'description', entrepreneurship_view, (def_entrepreneur_freedom, def_entrepreneur_framework))\n",
    "\n",
    "\n",
    "# Motivated by achievement\n",
    "ter_achievement_motivation = [ 'achieve', 'achievement', 'motivated', 'motivation' ]\n",
    "# Motivated by job security\n",
    "ter_job_security_motivation = [ 'comfort', 'job', 'security', 'motivated', 'motivation' ]\n",
    "def_achievement_motivation = 'Motivated by achievenment'\n",
    "def_job_security_motivation = 'Motivated by job security'\n",
    "addAntonymInfo(G, motivation_type, (ter_achievement_motivation, ter_job_security_motivation) )\n",
    "addAntonymAttribute(G, 'description', motivation_type, (def_achievement_motivation, def_job_security_motivation))"
   ]
  },
  {
   "cell_type": "markdown",
   "metadata": {},
   "source": [
    "> <span style=\"color: tomato;\">Long-Term Orientation</span> **nodes**"
   ]
  },
  {
   "cell_type": "code",
   "execution_count": 15,
   "metadata": {},
   "outputs": [],
   "source": [
    "main_long_term = ['long_term_lt', 'short_term_lt']\n",
    "\n",
    "long_term_antonyms = [ main_long_term ]\n",
    "G.add_edges_from( [ (sub[0], 'long_term_orientation') for sub in long_term_antonyms ])\n",
    "G.add_edges_from( [ (sub[1], 'short_term_orientation') for sub in long_term_antonyms ])"
   ]
  },
  {
   "cell_type": "markdown",
   "metadata": {},
   "source": [
    "> <span style=\"color: tomato;\">Long-Term Orientation</span> **terms** from research"
   ]
  },
  {
   "cell_type": "code",
   "execution_count": 16,
   "metadata": {},
   "outputs": [],
   "source": [
    "ter_long_term_orientation = ['long-term', 'future', 'learning', 'perseverance', 'investment', 'sustainable', 'lifelong', 'network', 'preventive']\n",
    "ter_short_term_orientation = ['short-term', 'present', 'now', 'absolute', 'truth', 'immediate', 'results', 'fix', 'on-the-go', 'corrective', 'spontaneous' ]\n",
    "def_long_term_orientation = 'Dealing with society’s search for virtue, focus on the future, and pay attention to learning and perseverance'\n",
    "def_short_term_orientation = 'Strong concern with establishing the absolute truth'\n",
    "addAntonymInfo(G, main_long_term, (ter_long_term_orientation, ter_short_term_orientation) )\n",
    "addAntonymAttribute(G, 'description', main_long_term, (def_long_term_orientation, def_short_term_orientation))"
   ]
  },
  {
   "cell_type": "markdown",
   "metadata": {},
   "source": [
    "> <span style=\"color: tomato;\">Indulgence versus Restraint</span> **nodes**"
   ]
  },
  {
   "cell_type": "code",
   "execution_count": 17,
   "metadata": {},
   "outputs": [],
   "source": [
    "main_indulgence_restraint = ['indulgence_ir', 'restraint_ir']\n",
    "\n",
    "indulgence_restraint_antonyms = [ main_indulgence_restraint ]\n",
    "G.add_edges_from( [ (sub[0], 'indulgence') for sub in indulgence_restraint_antonyms ])\n",
    "G.add_edges_from( [ (sub[1], 'restraint') for sub in indulgence_restraint_antonyms ])"
   ]
  },
  {
   "cell_type": "markdown",
   "metadata": {},
   "source": [
    "> <span style=\"color: tomato;\">Indulgence versus Restraint</span> **terms** from research"
   ]
  },
  {
   "cell_type": "code",
   "execution_count": 18,
   "metadata": {},
   "outputs": [],
   "source": [
    "ter_main_indulgence = [ 'indulgence', 'enjoy', 'life', 'fun', 'gratification', 'needs', 'satisfaction', 'well-being', 'leisure' ]\n",
    "ter_main_restraint = [ 'restraint', 'strict', 'social', 'norms', 'prohibitions', 'framework', 'imposition' ]\n",
    "def_main_indulgence = 'Related to a society that allows relatively free gratification of basic and natural human drives related to enjoying life and having fun'\n",
    "def_main_restraint = 'Related to a society that suppresses gratification of needs and regulates it by means of strict social norms'\n",
    "addAntonymInfo(G, main_indulgence_restraint, (ter_main_indulgence, ter_main_restraint) )\n",
    "addAntonymAttribute(G, 'description', main_indulgence_restraint, (def_main_indulgence, def_main_restraint))"
   ]
  },
  {
   "cell_type": "code",
   "execution_count": 19,
   "metadata": {},
   "outputs": [],
   "source": [
    "#plt.figure(figsize=(25,15))\n",
    "#nx.draw_networkx(G, node_size=100)\n",
    "#plt.savefig('./output/culture_graph')"
   ]
  },
  {
   "cell_type": "code",
   "execution_count": 20,
   "metadata": {},
   "outputs": [],
   "source": [
    "Gjson = nx.node_link_data(G)\n",
    "with open('./output/culture_graph.json', 'w') as f:\n",
    "    json.dump(Gjson, f)"
   ]
  },
  {
   "cell_type": "code",
   "execution_count": null,
   "metadata": {},
   "outputs": [],
   "source": []
  }
 ],
 "metadata": {
  "kernelspec": {
   "display_name": "Python 3.6.9 64-bit",
   "language": "python",
   "name": "python36964bita6748a10fd904a55b24d331e21814786"
  },
  "language_info": {
   "codemirror_mode": {
    "name": "ipython",
    "version": 3
   },
   "file_extension": ".py",
   "mimetype": "text/x-python",
   "name": "python",
   "nbconvert_exporter": "python",
   "pygments_lexer": "ipython3",
   "version": "3.6.9"
  }
 },
 "nbformat": 4,
 "nbformat_minor": 4
}
